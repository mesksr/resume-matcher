{
 "cells": [
  {
   "cell_type": "markdown",
   "metadata": {},
   "source": [
    "## XML Parsing + regex "
   ]
  },
  {
   "cell_type": "code",
   "execution_count": 1,
   "metadata": {
    "collapsed": true
   },
   "outputs": [],
   "source": [
    "import xml.etree.ElementTree as ET\n",
    "import string, re\n",
    "import os.path,os"
   ]
  },
  {
   "cell_type": "markdown",
   "metadata": {},
   "source": [
    "### Important -- gibberish handled using string.printable + encoding\n",
    "- Note above that print automatically converts &quote to \" \" etc via enforcing ascii encoding. \n",
    "- So using string.printable to filter the strings when utf-8 can not be enforced.\n",
    "- This gives the data in the 'final.txt' just like it would be printed.\n",
    "- Use decode('utf-8') while reading final.txt to convert to unicode object."
   ]
  },
  {
   "cell_type": "code",
   "execution_count": 9,
   "metadata": {
    "collapsed": true
   },
   "outputs": [],
   "source": [
    "#Somehow the strip() part is not working.\n",
    "def prep(text):\n",
    "    text = text.lower()\n",
    "    #text = text.strip('</p>')\n",
    "    return text+'\\n'"
   ]
  },
  {
   "cell_type": "code",
   "execution_count": 3,
   "metadata": {
    "collapsed": true
   },
   "outputs": [],
   "source": [
    "def cleanify(root,PATH):\n",
    "    '''Generates files.txt in every subdirectory of stackexchange.'''\n",
    "    strings = []\n",
    "    printable = set(string.printable)\n",
    "\n",
    "    for body in root.findall('row'):\n",
    "        strings.append(body.get('Body'))\n",
    "\n",
    "    fout = open(os.path.join(PATH,'final.txt'),'w')\n",
    "    i = 0\n",
    "    for each in strings:\n",
    "        try:\n",
    "            each = prep(each)\n",
    "            fout.write(each.encode('utf-8'))\n",
    "        except: \n",
    "            filtered = filter(lambda x: x in printable,each)\n",
    "            filtered = prep(filtered)\n",
    "            fout.write(filtered.encode('utf-8'))\n",
    "        i += 1\n",
    "    fout.close()"
   ]
  },
  {
   "cell_type": "code",
   "execution_count": 11,
   "metadata": {
    "scrolled": false
   },
   "outputs": [],
   "source": [
    "dirs = os.listdir('./stackexchange')\n",
    "for each in dirs:\n",
    "    PATH = os.path.join(os.getcwd(),'stackexchange',each)\n",
    "    root = ET.parse(os.path.join(PATH,'Posts.xml')).getroot()\n",
    "    cleanify(root,PATH)"
   ]
  },
  {
   "cell_type": "code",
   "execution_count": 12,
   "metadata": {
    "scrolled": true
   },
   "outputs": [
    {
     "name": "stdout",
     "output_type": "stream",
     "text": [
      "row {'ViewCount': '5684', 'Title': 'How can I change the Apache Solr search URL in Drupal?', 'LastEditDate': '2011-08-02T16:50:51.567', 'AnswerCount': '8', 'Score': '11', 'PostTypeId': '1', 'OwnerUserId': '14', 'FavoriteCount': '4', 'Body': '<p>How can I change the default Apache Solr URL path from \"search/apachesolr_search/term\" to something else?</p>\\n', 'Tags': '<7><search><apache-solr>', 'LastEditorUserId': '199', 'LastActivityDate': '2015-10-01T04:29:02.673', 'CommentCount': '1', 'AcceptedAnswerId': '393', 'CreationDate': '2011-03-02T20:49:08.213', 'Id': '1'}\n",
      "row {'ViewCount': '17853', 'Title': \"How can I change a user's Drupal password?\", 'LastEditDate': '2017-02-24T13:31:09.807', 'AnswerCount': '7', 'Score': '51', 'PostTypeId': '1', 'OwnerUserId': '14', 'FavoriteCount': '13', 'Body': \"<p>How can I change a user's Drupal password from the command line with Drush?</p>\\n\", 'Tags': '<users><drush>', 'LastEditorUserId': '199', 'LastActivityDate': '2017-02-24T13:31:09.807', 'CommentCount': '0', 'AcceptedAnswerId': '8', 'CreationDate': '2011-03-02T20:50:13.953', 'Id': '2'}\n",
      "row {'ViewCount': '18906', 'Title': \"What's the proper use of EntityFieldQuery?\", 'LastEditDate': '2013-03-14T00:35:44.827', 'AnswerCount': '4', 'Score': '35', 'OwnerDisplayName': 'user7', 'PostTypeId': '1', 'FavoriteCount': '11', 'Body': '<p>In Drupal 7, the API documentation for <code>node_load_multiple()</code> specifies using the <code>$conditions</code> parameter has been deprecated in favor of using <code>EntityFieldQuery</code>. How does one use the class to generate a list of node IDs for use with <code>node_load_multiple()</code>? Are there any other use cases for it? </p>\\n', 'Tags': '<7><database>', 'LastEditorUserId': '13366', 'LastActivityDate': '2016-03-09T19:39:01.907', 'CommentCount': '0', 'AcceptedAnswerId': '47', 'CreationDate': '2011-03-02T20:51:05.910', 'Id': '3'}\n"
     ]
    }
   ],
   "source": [
    "for child in root[:3]:\n",
    "    print child.tag, child.attrib"
   ]
  },
  {
   "cell_type": "code",
   "execution_count": 13,
   "metadata": {},
   "outputs": [
    {
     "data": {
      "text/plain": [
       "159758"
      ]
     },
     "execution_count": 13,
     "metadata": {},
     "output_type": "execute_result"
    }
   ],
   "source": [
    "len(root)"
   ]
  },
  {
   "cell_type": "code",
   "execution_count": 15,
   "metadata": {},
   "outputs": [
    {
     "name": "stdout",
     "output_type": "stream",
     "text": [
      "ascii\n"
     ]
    }
   ],
   "source": [
    "import sys\n",
    "print sys.getdefaultencoding()"
   ]
  }
 ],
 "metadata": {
  "kernelspec": {
   "display_name": "Python 2",
   "language": "python",
   "name": "python2"
  },
  "language_info": {
   "codemirror_mode": {
    "name": "ipython",
    "version": 2
   },
   "file_extension": ".py",
   "mimetype": "text/x-python",
   "name": "python",
   "nbconvert_exporter": "python",
   "pygments_lexer": "ipython2",
   "version": "2.7.12"
  }
 },
 "nbformat": 4,
 "nbformat_minor": 2
}
