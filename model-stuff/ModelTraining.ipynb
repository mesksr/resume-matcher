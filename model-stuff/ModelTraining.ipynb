{
 "cells": [
  {
   "cell_type": "code",
   "execution_count": 1,
   "metadata": {
    "collapsed": true
   },
   "outputs": [],
   "source": [
    "import gensim"
   ]
  },
  {
   "cell_type": "code",
   "execution_count": 2,
   "metadata": {},
   "outputs": [
    {
     "data": {
      "text/plain": [
       "'2.7.12 (default, Nov 19 2016, 06:48:10) \\n[GCC 5.4.0 20160609]'"
      ]
     },
     "execution_count": 2,
     "metadata": {},
     "output_type": "execute_result"
    }
   ],
   "source": [
    "import os, os.path, sys\n",
    "sys.version"
   ]
  },
  {
   "cell_type": "code",
   "execution_count": 3,
   "metadata": {
    "collapsed": true
   },
   "outputs": [],
   "source": [
    "from bs4 import BeautifulSoup as bsp"
   ]
  },
  {
   "cell_type": "code",
   "execution_count": 4,
   "metadata": {},
   "outputs": [
    {
     "data": {
      "text/plain": [
       "'/home/mradul/2projectdaddy/resume-matcher/stackexchange/android.stackexchange.com/Posts.xml'"
      ]
     },
     "execution_count": 4,
     "metadata": {},
     "output_type": "execute_result"
    }
   ],
   "source": [
    "path = os.path.abspath(os.getcwd()) + r'/stackexchange/android.stackexchange.com/Posts.xml'\n",
    "path"
   ]
  },
  {
   "cell_type": "code",
   "execution_count": 5,
   "metadata": {
    "collapsed": true,
    "scrolled": true
   },
   "outputs": [],
   "source": [
    "import re\n",
    "#Extract text from the file.\n",
    "reobj = re.compile(r\"Body=\\\"&lt;p&gt;(.*)&lt;{1}/\")\n",
    "final = \"\"\n",
    "\n",
    "text = open(path,'r').read()\n",
    "temp = reobj.findall(text)\n",
    "\n",
    "final += '\\n'.join(temp).lower()\n",
    "with open('final.txt','w') as fout:\n",
    "    fout.write(final)"
   ]
  },
  {
   "cell_type": "code",
   "execution_count": 10,
   "metadata": {
    "collapsed": true
   },
   "outputs": [],
   "source": [
    "import spacy\n",
    "nlp = spacy.load('en')"
   ]
  },
  {
   "cell_type": "code",
   "execution_count": null,
   "metadata": {
    "collapsed": true
   },
   "outputs": [],
   "source": [
    "wobj = re.compile(r'(\\w+ )+.*[\\.?]') #sentences from the text\n",
    "\n",
    "model = gensim.models.Word2Vec(, min_count=1)"
   ]
  },
  {
   "cell_type": "code",
   "execution_count": null,
   "metadata": {
    "collapsed": true
   },
   "outputs": [],
   "source": [
    "import smart_open as so\n",
    "import re\n",
    "\n",
    "sent_re = re.compile(r'(\\w+ )+.*[\\.?]') #sentence_regex\n",
    "wobj = re.compile(r'\\w+')\n",
    "\n",
    "with so.smart_open('final.txt','r') as fin:\n",
    "    for each in sent_re.findall(fin.read()):\n",
    "        yield wobj.findall(each)\n",
    "        "
   ]
  },
  {
   "cell_type": "code",
   "execution_count": 23,
   "metadata": {},
   "outputs": [
    {
     "data": {
      "text/plain": [
       "[this is a common question by those who have just rooted their phones.  what apps, roms, benefits, etc.,\n",
       " do i get from rooting?  ,\n",
       " what should i be doing now?,\n",
       " i have a google nexus one with android 2.2.,\n",
       " i didn't like the default sms-application so i installed handcent-sms.,\n",
       " now when i get an sms, i get notified twice.,\n",
       " how can i fix this?,\n",
       " you can turn off notification in your stock messaging application by going into the settings dialog  (menu button -&gt; settings) and unchecking notifications\n",
       " i have a motorola droid v1 that is running froyo (2.2).  ,\n",
       " i've noticed that if my device sleeps for a while, when i wake it up it will not attempt to connect to the wireless ap in my home.  ,\n",
       " when i go to the wireless settings section, i see a note next to the ap entry that says 'disabled'.  ,\n",
       " if i click the entry and select 'connect', it connects right away.  ,\n",
       " it will remain connected until the next longish sleep, when it is again marked as disabled.&lt;/p&gt;&#xa;&#xa;&lt;p&gt;is there any way to prevent]"
      ]
     },
     "execution_count": 23,
     "metadata": {},
     "output_type": "execute_result"
    }
   ],
   "source": [
    "list(document.sents)"
   ]
  },
  {
   "cell_type": "code",
   "execution_count": 15,
   "metadata": {
    "collapsed": true
   },
   "outputs": [],
   "source": [
    "# create some toy data to use with the following example\n",
    "import smart_open, os\n",
    "\n",
    "sentences = [['first', 'sentence'], ['second', 'sentence']]\n",
    "filenames = ['f1.txt', 'f2.txt']\n",
    "for i, fname in enumerate(filenames):\n",
    "    with smart_open.smart_open(fname, 'w') as fout:\n",
    "        for line in sentences[i]:\n",
    "            fout.write(line + '\\n')"
   ]
  }
 ],
 "metadata": {
  "kernelspec": {
   "display_name": "Python 2",
   "language": "python",
   "name": "python2"
  },
  "language_info": {
   "codemirror_mode": {
    "name": "ipython",
    "version": 2
   },
   "file_extension": ".py",
   "mimetype": "text/x-python",
   "name": "python",
   "nbconvert_exporter": "python",
   "pygments_lexer": "ipython2",
   "version": "2.7.12"
  }
 },
 "nbformat": 4,
 "nbformat_minor": 2
}
