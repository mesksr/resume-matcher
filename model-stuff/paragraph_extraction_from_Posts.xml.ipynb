{
 "cells": [
  {
   "cell_type": "markdown",
   "metadata": {},
   "source": [
    "## Paragraph Extraction\n",
    "- Using XML Parsing by **xml.etree.Elementree** to get root->row->Body\n",
    "- Note above that print automatically converts &quote to \" \" etc via enforcing ascii encoding. \n",
    "- So using string.printable to filter the strings when utf-8 can not be enforced.\n",
    "- This gives the data in the 'paras.txt' just like it would be printed.\n",
    "- Use decode('utf-8') while reading paras.txt to convert to unicode object."
   ]
  },
  {
   "cell_type": "code",
   "execution_count": 1,
   "metadata": {},
   "outputs": [],
   "source": [
    "import xml.etree.ElementTree as ET\n",
    "import string, re\n",
    "import os.path,os"
   ]
  },
  {
   "cell_type": "code",
   "execution_count": null,
   "metadata": {
    "collapsed": true
   },
   "outputs": [],
   "source": [
    "import logging\n",
    "logging.basicConfig(format='%(asctime)s : %(levelname)s : %(message)s', level=logging.INFO)"
   ]
  },
  {
   "cell_type": "code",
   "execution_count": 9,
   "metadata": {
    "collapsed": true
   },
   "outputs": [],
   "source": [
    "def prep(text):\n",
    "    text = text.lower()\n",
    "    return text+'\\n'"
   ]
  },
  {
   "cell_type": "code",
   "execution_count": 3,
   "metadata": {
    "collapsed": true
   },
   "outputs": [],
   "source": [
    "def cleanify(root,PATH):\n",
    "    '''Generates paras.txt in every subdirectory of stackexchange.'''\n",
    "    strings = []\n",
    "    printable = set(string.printable)\n",
    "\n",
    "    for body in root.findall('row'):\n",
    "        strings.append(body.get('Body'))\n",
    "\n",
    "    fout = open(os.path.join(PATH,'paras.txt'),'w')\n",
    "    i = 0\n",
    "    for each in strings:\n",
    "        try:\n",
    "            each = prep(each)\n",
    "            fout.write(each.encode('utf-8'))\n",
    "        except: \n",
    "            logging.warning('Filtering out non-unicode characters')\n",
    "            filtered = filter(lambda x: x in printable,each)\n",
    "            filtered = prep(filtered)\n",
    "            fout.write(filtered.encode('utf-8'))\n",
    "        i += 1\n",
    "    fout.close()"
   ]
  },
  {
   "cell_type": "code",
   "execution_count": 11,
   "metadata": {
    "collapsed": true,
    "scrolled": false
   },
   "outputs": [],
   "source": [
    "dirs = os.listdir('./stackexchange')\n",
    "for each in dirs:\n",
    "    PATH = os.path.join(os.getcwd(),'stackexchange',each)\n",
    "    root = ET.parse(os.path.join(PATH,'Posts.xml')).getroot()\n",
    "    logging.info('Generated paragraphs for',each)\n",
    "    cleanify(root,PATH)\n",
    "    logging.info('SUCCESS')"
   ]
  },
  {
   "cell_type": "code",
   "execution_count": 15,
   "metadata": {
    "scrolled": true
   },
   "outputs": [
    {
     "name": "stdout",
     "output_type": "stream",
     "text": [
      "ascii\n"
     ]
    }
   ],
   "source": [
    "import sys\n",
    "print sys.getdefaultencoding()"
   ]
  }
 ],
 "metadata": {
  "kernelspec": {
   "display_name": "Python 2",
   "language": "python",
   "name": "python2"
  },
  "language_info": {
   "codemirror_mode": {
    "name": "ipython",
    "version": 2
   },
   "file_extension": ".py",
   "mimetype": "text/x-python",
   "name": "python",
   "nbconvert_exporter": "python",
   "pygments_lexer": "ipython2",
   "version": "2.7.12"
  }
 },
 "nbformat": 4,
 "nbformat_minor": 2
}
