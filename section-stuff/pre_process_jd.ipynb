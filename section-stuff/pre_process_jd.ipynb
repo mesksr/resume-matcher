{
 "cells": [
  {
   "cell_type": "code",
   "execution_count": 2,
   "metadata": {
    "collapsed": true
   },
   "outputs": [],
   "source": [
    "import spacy\n",
    "import en_core_web_sm\n",
    "nlp = en_core_web_sm.load()"
   ]
  },
  {
   "cell_type": "code",
   "execution_count": 3,
   "metadata": {
    "collapsed": true
   },
   "outputs": [],
   "source": [
    "def modify(word):\n",
    "    try:\n",
    "        symbols = '''~'`!@#$%^&*)(_+-=}{][|\\:;\",./<>?'''\n",
    "        mod_word = ''\n",
    "        \n",
    "        for char in word:\n",
    "            if (char not in symbols):\n",
    "                mod_word += char.lower()\n",
    "\n",
    "        docx = nlp(unicode(mod_word))\n",
    "\n",
    "        if (len(mod_word) == 0 or docx[0].is_stop):\n",
    "            return None\n",
    "        else:\n",
    "            return docx[0].lemma_\n",
    "    except:\n",
    "        return None # to handle the odd case of characters like 'x02', etc."
   ]
  },
  {
   "cell_type": "code",
   "execution_count": 4,
   "metadata": {},
   "outputs": [
    {
     "name": "stdout",
     "output_type": "stream",
     "text": [
      "software engineer c c java uml xamp agile defencecommunication client successful expand company develop air defence system information system target system communication system require additional software engineer support design evolution requirement software code identification test requirement development component test harness support design code review activity derisk design evolution qualification software engineer degree software engineering computer science math physics equivalent good degree pref 1st 1 meng equiv essential requirement software engineer experience follow object orient analysis design preferably uml unix linux window c c java html php candidate defence background experience agile development advantage experience xamp technology useful desirable requirement software engineer experience follow realtime design mathematical algorithm cod network protocol oo case tool structure design method datum voice network computer telephony integration cti appreciation follow test technique strategy configuration management personal attribute flexibility adaptability team player good communication skill discipline company provide excellent career prospect career development recent software graduate consider role keyword software engineer c c java realtime embed uml linux unix oo agile xamp defence communication system \n"
     ]
    }
   ],
   "source": [
    "raw_jd = 'software engineer c, c++, java, uml, xamp, agile. defence/communications our client is a successful and expanding company developing air defence systems, information systems, targeting systems, communication systems. they now require an additional software engineer to support the design evolution from requirements into software code. identification of test requirements and the development of component test harnesses. supporting design and code review activities to derisk the design evolution qualifications for the software engineer. degree in software engineering, computer science, maths, physics or equivalent good degree pref 1st or ****:1, meng or equiv. essential requirements: software engineer experience in one or more of the following: object oriented analysis and design (preferably  uml)  unix /linux or windows, c, c++, java. html, php candidates from a defence background experience of agile development an advantage. experience of xamp technologies useful. desirable requirements:  software engineer  experience in one or more of the following: realtime design. mathematical or algorithm coding  network protocols  oo case tools  structured design. methods  data and voice networks  computer telephony integration (cti) an appreciation of the following: testing techniques and strategies  configuration management personal attributes flexibility, adaptability, team player, good communication skills, discipline the company provide excellent career prospects and career development recent software graduates will also be considered for these roles. keywords software engineer, c, c++, java, realtime, embedded, uml, linux, unix, oo, agile, xamp. defence, communication systems.'\n",
    "pre_jd = ''\n",
    "\n",
    "for word in raw_jd.split():\n",
    "    if modify(word) is not None:\n",
    "        pre_jd += modify(word)+' '\n",
    "        \n",
    "print pre_jd"
   ]
  }
 ],
 "metadata": {
  "kernelspec": {
   "display_name": "Python 2",
   "language": "python",
   "name": "python2"
  },
  "language_info": {
   "codemirror_mode": {
    "name": "ipython",
    "version": 2
   },
   "file_extension": ".py",
   "mimetype": "text/x-python",
   "name": "python",
   "nbconvert_exporter": "python",
   "pygments_lexer": "ipython2",
   "version": "2.7.12"
  }
 },
 "nbformat": 4,
 "nbformat_minor": 2
}
