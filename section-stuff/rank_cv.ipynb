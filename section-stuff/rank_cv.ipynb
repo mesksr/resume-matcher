{
 "cells": [
  {
   "cell_type": "code",
   "execution_count": 1,
   "metadata": {
    "collapsed": true
   },
   "outputs": [],
   "source": [
    "import spacy, os, math\n",
    "import pandas as pd\n",
    "import numpy as np\n",
    "import en_core_web_sm\n",
    "nlp = en_core_web_sm.load()"
   ]
  },
  {
   "cell_type": "code",
   "execution_count": 2,
   "metadata": {
    "collapsed": true
   },
   "outputs": [],
   "source": [
    "def modify(word):\n",
    "    try:\n",
    "        symbols = '''~'`!@#$%^&*)(_+-=}{][|\\:;\",./<>?'''\n",
    "        mod_word = ''\n",
    "        \n",
    "        for char in word:\n",
    "            if (char not in symbols):\n",
    "                mod_word += char.lower()\n",
    "\n",
    "        docx = nlp(unicode(mod_word))\n",
    "\n",
    "        if (len(mod_word) == 0 or docx[0].is_stop):\n",
    "            return None\n",
    "        else:\n",
    "            return docx[0].lemma_\n",
    "    except:\n",
    "        return '1' # to handle the odd case of characters like 'x02', etc."
   ]
  },
  {
   "cell_type": "code",
   "execution_count": 29,
   "metadata": {
    "collapsed": true
   },
   "outputs": [],
   "source": [
    "def get_closest(word, n):\n",
    "    ret_1 = []\n",
    "    ret_2 = []\n",
    "    for a, b in  model.most_similar(positive=[word],topn=n):\n",
    "        ret_1.append(a)\n",
    "        ret_2.append(b)\n",
    "    return ret_1, ret_2"
   ]
  },
  {
   "cell_type": "code",
   "execution_count": 15,
   "metadata": {
    "collapsed": true
   },
   "outputs": [],
   "source": [
    "cvs = pd.read_csv('prc_data.csv', sep='\\t')\n",
    "cvs = cvs.set_index('Unnamed: 0')\n",
    "\n",
    "#jd = pd.read_csv(os.getcwd()+'/data/jd_small.csv')\n",
    "#raw_description = jd['description'][5]\n",
    "\n",
    "raw_description = \"need data analyst with knowledge of python and R\""
   ]
  },
  {
   "cell_type": "code",
   "execution_count": 27,
   "metadata": {},
   "outputs": [
    {
     "ename": "NameError",
     "evalue": "global name 'model' is not defined",
     "output_type": "error",
     "traceback": [
      "\u001b[0;31m---------------------------------------------------------------------------\u001b[0m",
      "\u001b[0;31mNameError\u001b[0m                                 Traceback (most recent call last)",
      "\u001b[0;32m<ipython-input-27-80232cf4661e>\u001b[0m in \u001b[0;36m<module>\u001b[0;34m()\u001b[0m\n\u001b[1;32m      9\u001b[0m \u001b[0msimilar_words_needed\u001b[0m \u001b[0;34m=\u001b[0m \u001b[0;36m2\u001b[0m\u001b[0;34m\u001b[0m\u001b[0m\n\u001b[1;32m     10\u001b[0m \u001b[0;32mfor\u001b[0m \u001b[0mword\u001b[0m \u001b[0;32min\u001b[0m \u001b[0mprc_description\u001b[0m\u001b[0;34m.\u001b[0m\u001b[0msplit\u001b[0m\u001b[0;34m(\u001b[0m\u001b[0;34m)\u001b[0m\u001b[0;34m:\u001b[0m\u001b[0;34m\u001b[0m\u001b[0m\n\u001b[0;32m---> 11\u001b[0;31m     \u001b[0msimilar_words\u001b[0m\u001b[0;34m,\u001b[0m \u001b[0msimilarity\u001b[0m \u001b[0;34m=\u001b[0m \u001b[0mget_closest\u001b[0m\u001b[0;34m(\u001b[0m\u001b[0mword\u001b[0m\u001b[0;34m,\u001b[0m \u001b[0msimilar_words_needed\u001b[0m\u001b[0;34m)\u001b[0m\u001b[0;34m\u001b[0m\u001b[0m\n\u001b[0m\u001b[1;32m     12\u001b[0m     \u001b[0;32mfor\u001b[0m \u001b[0mi\u001b[0m \u001b[0;32min\u001b[0m \u001b[0mrange\u001b[0m\u001b[0;34m(\u001b[0m\u001b[0mlen\u001b[0m\u001b[0;34m(\u001b[0m\u001b[0msimilar_words\u001b[0m\u001b[0;34m)\u001b[0m\u001b[0;34m)\u001b[0m\u001b[0;34m:\u001b[0m\u001b[0;34m\u001b[0m\u001b[0m\n\u001b[1;32m     13\u001b[0m         \u001b[0mword_value\u001b[0m\u001b[0;34m[\u001b[0m\u001b[0msimilar_words\u001b[0m\u001b[0;34m[\u001b[0m\u001b[0mi\u001b[0m\u001b[0;34m]\u001b[0m\u001b[0;34m]\u001b[0m \u001b[0;34m=\u001b[0m \u001b[0mword_value\u001b[0m\u001b[0;34m.\u001b[0m\u001b[0mget\u001b[0m\u001b[0;34m(\u001b[0m\u001b[0msimilar_words\u001b[0m\u001b[0;34m[\u001b[0m\u001b[0mi\u001b[0m\u001b[0;34m]\u001b[0m\u001b[0;34m,\u001b[0m \u001b[0;36m0\u001b[0m\u001b[0;34m)\u001b[0m\u001b[0;34m+\u001b[0m\u001b[0msimilarity\u001b[0m\u001b[0;34m[\u001b[0m\u001b[0mi\u001b[0m\u001b[0;34m]\u001b[0m\u001b[0;34m\u001b[0m\u001b[0m\n",
      "\u001b[0;32m<ipython-input-26-1ca84ddad221>\u001b[0m in \u001b[0;36mget_closest\u001b[0;34m(word, n)\u001b[0m\n\u001b[1;32m      1\u001b[0m \u001b[0;32mdef\u001b[0m \u001b[0mget_closest\u001b[0m\u001b[0;34m(\u001b[0m\u001b[0mword\u001b[0m\u001b[0;34m,\u001b[0m \u001b[0mn\u001b[0m\u001b[0;34m)\u001b[0m\u001b[0;34m:\u001b[0m\u001b[0;34m\u001b[0m\u001b[0m\n\u001b[0;32m----> 2\u001b[0;31m     \u001b[0;32mprint\u001b[0m  \u001b[0mmodel\u001b[0m\u001b[0;34m.\u001b[0m\u001b[0mmost_similar\u001b[0m\u001b[0;34m(\u001b[0m\u001b[0mpositive\u001b[0m\u001b[0;34m=\u001b[0m\u001b[0;34m[\u001b[0m\u001b[0mword\u001b[0m\u001b[0;34m]\u001b[0m\u001b[0;34m,\u001b[0m\u001b[0mtopn\u001b[0m\u001b[0;34m=\u001b[0m\u001b[0mn\u001b[0m\u001b[0;34m)\u001b[0m\u001b[0;34m\u001b[0m\u001b[0m\n\u001b[0m\u001b[1;32m      3\u001b[0m     \u001b[0;32mreturn\u001b[0m \u001b[0;34m[\u001b[0m\u001b[0mword\u001b[0m\u001b[0;34m]\u001b[0m\u001b[0;34m*\u001b[0m\u001b[0mn\u001b[0m\u001b[0;34m,\u001b[0m \u001b[0;34m[\u001b[0m\u001b[0;36m1\u001b[0m\u001b[0;34m]\u001b[0m\u001b[0;34m*\u001b[0m\u001b[0mn\u001b[0m\u001b[0;34m\u001b[0m\u001b[0m\n",
      "\u001b[0;31mNameError\u001b[0m: global name 'model' is not defined"
     ]
    }
   ],
   "source": [
    "prc_description = ''\n",
    "\n",
    "for word in raw_description.split():\n",
    "    mod_word = modify(word)\n",
    "    if (mod_word is not None):\n",
    "        prc_description += (mod_word + ' ')\n",
    "\n",
    "word_value = {}\n",
    "similar_words_needed = 2\n",
    "for word in prc_description.split():\n",
    "    similar_words, similarity = get_closest(word, similar_words_needed)\n",
    "    for i in range(len(similar_words)):\n",
    "        word_value[similar_words[i]] = word_value.get(similar_words[i], 0)+similarity[i]\n",
    "        print similar_words[i], word_value[similar_words[i]] "
   ]
  },
  {
   "cell_type": "code",
   "execution_count": 11,
   "metadata": {},
   "outputs": [
    {
     "name": "stdout",
     "output_type": "stream",
     "text": [
      "{u'knowledge': 27, u'python': 1, u'datum': 9, u'ne': 3, u'r': 1, u'analyst': 4}\n",
      "{u'knowledge': 1.0986122886681098, u'python': 4.605170185988092, u'datum': 2.3978952727983707, u'ne': 3.4965075614664802, u'r': 4.605170185988092, u'analyst': 3.2188758248682006}\n"
     ]
    }
   ],
   "source": [
    "no_of_cv = 100\n",
    "\n",
    "count = {}\n",
    "idf = {}\n",
    "for word in word_value.keys():\n",
    "    count[word] = 0\n",
    "    for i in range(no_of_cv):\n",
    "        try:\n",
    "            if word in cvs.loc(0)['skill'][i].split() or word in cvs.loc(0)['exp'][i].split():\n",
    "                count[word] += 1\n",
    "        except:\n",
    "            pass\n",
    "    if (count[word] == 0):\n",
    "        count[word] = 1\n",
    "    idf[word] = math.log(no_of_cv/count[word])\n",
    "print count\n",
    "print idf"
   ]
  },
  {
   "cell_type": "code",
   "execution_count": 19,
   "metadata": {
    "collapsed": true,
    "scrolled": true
   },
   "outputs": [],
   "source": [
    "score = {}\n",
    "for i in range(no_of_cv):\n",
    "    score[i] = 0\n",
    "    try:\n",
    "        for word in word_value.keys():\n",
    "            tf = cvs.loc(0)['skill'][i].split().count(word) + cvs.loc(0)['exp'][i].split().count(word)\n",
    "            score[i] += word_value[word]*tf*idf[word]\n",
    "    except:\n",
    "        pass"
   ]
  },
  {
   "cell_type": "code",
   "execution_count": 24,
   "metadata": {},
   "outputs": [
    {
     "name": "stdout",
     "output_type": "stream",
     "text": [
      "cv159 : 24.8584323937\n",
      "cv174 : 21.3803867597\n",
      "cv126 : 13.9860302459\n",
      "cv110 : 12.8755032995\n",
      "cv141 : 11.3874642776\n",
      "cv150 : 11.2335421953\n",
      "cv164 : 6.99301512293\n",
      "cv107 : 6.99301512293\n",
      "cv149 : 6.59167373201\n",
      "cv142 : 6.43775164974\n",
      "cv139 : 4.7957905456\n",
      "cv124 : 4.7957905456\n",
      "cv123 : 4.7957905456\n",
      "cv119 : 4.7957905456\n",
      "cv177 : 4.39444915467\n",
      "cv111 : 4.39444915467\n",
      "cv176 : 2.19722457734\n",
      "cv172 : 2.19722457734\n",
      "cv17 : 2.19722457734\n",
      "cv169 : 2.19722457734\n",
      "cv163 : 2.19722457734\n",
      "cv16 : 2.19722457734\n",
      "cv156 : 2.19722457734\n",
      "cv155 : 2.19722457734\n",
      "cv153 : 2.19722457734\n",
      "cv148 : 2.19722457734\n",
      "cv145 : 2.19722457734\n",
      "cv129 : 2.19722457734\n",
      "cv127 : 2.19722457734\n",
      "cv121 : 2.19722457734\n",
      "cv120 : 2.19722457734\n",
      "cv116 : 2.19722457734\n",
      "cv108 : 2.19722457734\n",
      "cv106 : 2.19722457734\n",
      "cv102 : 2.19722457734\n",
      "cv1.txt : 2.19722457734\n",
      "cv189 : 0.0\n",
      "cv188 : 0.0\n",
      "cv187 : 0.0\n",
      "cv186 : 0.0\n",
      "cv185 : 0.0\n",
      "cv184 : 0.0\n",
      "cv183 : 0.0\n",
      "cv182 : 0.0\n",
      "cv181 : 0.0\n",
      "cv180 : 0.0\n",
      "cv18 : 0.0\n",
      "cv179 : 0.0\n",
      "cv178 : 0.0\n",
      "cv175 : 0.0\n",
      "cv173 : 0.0\n",
      "cv171 : 0.0\n",
      "cv170 : 0.0\n",
      "cv168 : 0.0\n",
      "cv167 : 0\n",
      "cv166 : 0.0\n",
      "cv165 : 0.0\n",
      "cv162 : 0.0\n",
      "cv161 : 0.0\n",
      "cv160 : 0.0\n",
      "cv158 : 0.0\n",
      "cv157 : 0.0\n",
      "cv154 : 0.0\n",
      "cv152 : 0.0\n",
      "cv151 : 0.0\n",
      "cv15 : 0.0\n",
      "cv147 : 0.0\n",
      "cv146 : 0.0\n",
      "cv144 : 0.0\n",
      "cv143 : 0.0\n",
      "cv140 : 0.0\n",
      "cv14 : 0.0\n",
      "cv138 : 0.0\n",
      "cv137 : 0.0\n",
      "cv136 : 0.0\n",
      "cv135 : 0.0\n",
      "cv134 : 0.0\n",
      "cv133 : 0.0\n",
      "cv132 : 0.0\n",
      "cv131 : 0.0\n",
      "cv130 : 0.0\n",
      "cv13 : 0.0\n",
      "cv128 : 0.0\n",
      "cv125 : 0.0\n",
      "cv122 : 0.0\n",
      "cv12 : 0.0\n",
      "cv118 : 0.0\n",
      "cv117 : 0.0\n",
      "cv115 : 0.0\n",
      "cv114 : 0.0\n",
      "cv113 : 0.0\n",
      "cv112 : 0.0\n",
      "cv11 : 0.0\n",
      "cv109 : 0.0\n",
      "cv105 : 0.0\n",
      "cv104 : 0.0\n",
      "cv103 : 0.0\n",
      "cv101 : 0.0\n",
      "cv100 : 0.0\n",
      "cv10 : 0.0\n"
     ]
    }
   ],
   "source": [
    "sorted_list = []\n",
    "for i in range(no_of_cv):\n",
    "    sorted_list.append((score[i], i))\n",
    "    \n",
    "sorted_list.sort(reverse = True)\n",
    "\n",
    "for s, i in sorted_list:\n",
    "    print list(cvs)[i], ':', s"
   ]
  }
 ],
 "metadata": {
  "kernelspec": {
   "display_name": "Python 2",
   "language": "python",
   "name": "python2"
  },
  "language_info": {
   "codemirror_mode": {
    "name": "ipython",
    "version": 2
   },
   "file_extension": ".py",
   "mimetype": "text/x-python",
   "name": "python",
   "nbconvert_exporter": "python",
   "pygments_lexer": "ipython2",
   "version": "2.7.12"
  }
 },
 "nbformat": 4,
 "nbformat_minor": 2
}
