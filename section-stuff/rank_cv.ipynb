{
 "cells": [
  {
   "cell_type": "code",
   "execution_count": 15,
   "metadata": {
    "collapsed": true
   },
   "outputs": [],
   "source": [
    "import os, math\n",
    "import pandas as pd\n",
    "import numpy as np"
   ]
  },
  {
   "cell_type": "code",
   "execution_count": 16,
   "metadata": {
    "collapsed": true
   },
   "outputs": [],
   "source": [
    "def get_closest(word, n):\n",
    "    return [word]*n, [1]*n"
   ]
  },
  {
   "cell_type": "code",
   "execution_count": 17,
   "metadata": {
    "collapsed": true
   },
   "outputs": [],
   "source": [
    "cvs = pd.read_csv('prc_data.csv', sep='\\t')\n",
    "cvs = cvs.set_index('Unnamed: 0')\n",
    "\n",
    "prc_description = \"ne datum analyst knowledge python R\""
   ]
  },
  {
   "cell_type": "code",
   "execution_count": 18,
   "metadata": {},
   "outputs": [
    {
     "name": "stdout",
     "output_type": "stream",
     "text": [
      "ne 1\n",
      "ne 2\n",
      "datum 1\n",
      "datum 2\n",
      "analyst 1\n",
      "analyst 2\n",
      "knowledge 1\n",
      "knowledge 2\n",
      "python 1\n",
      "python 2\n",
      "R 1\n",
      "R 2\n"
     ]
    }
   ],
   "source": [
    "word_value = {}\n",
    "similar_words_needed = 2\n",
    "for word in prc_description.split():\n",
    "    similar_words, similarity = get_closest(word, similar_words_needed)\n",
    "    for i in range(len(similar_words)):\n",
    "        word_value[similar_words[i]] = word_value.get(similar_words[i], 0)+similarity[i]\n",
    "        print similar_words[i], word_value[similar_words[i]] "
   ]
  },
  {
   "cell_type": "code",
   "execution_count": 20,
   "metadata": {},
   "outputs": [
    {
     "name": "stdout",
     "output_type": "stream",
     "text": [
      "{'knowledge': 27, 'python': 1, 'datum': 9, 'ne': 3, 'R': 1, 'analyst': 4}\n",
      "{'knowledge': 1.0986122886681098, 'python': 4.605170185988092, 'datum': 2.3978952727983707, 'ne': 3.4965075614664802, 'R': 4.605170185988092, 'analyst': 3.2188758248682006}\n"
     ]
    }
   ],
   "source": [
    "no_of_cv = 100\n",
    "\n",
    "count = {}\n",
    "idf = {}\n",
    "for word in word_value.keys():\n",
    "    count[word] = 0\n",
    "    for i in range(no_of_cv):\n",
    "        try:\n",
    "            if word in cvs.loc(0)['skill'][i].split() or word in cvs.loc(0)['exp'][i].split():\n",
    "                count[word] += 1\n",
    "        except:\n",
    "            pass\n",
    "    if (count[word] == 0):\n",
    "        count[word] = 1\n",
    "    idf[word] = math.log(no_of_cv/count[word])\n",
    "print count\n",
    "print idf"
   ]
  },
  {
   "cell_type": "code",
   "execution_count": 21,
   "metadata": {
    "collapsed": true,
    "scrolled": true
   },
   "outputs": [],
   "source": [
    "score = {}\n",
    "for i in range(no_of_cv):\n",
    "    score[i] = 0\n",
    "    try:\n",
    "        for word in word_value.keys():\n",
    "            tf = cvs.loc(0)['skill'][i].split().count(word) + cvs.loc(0)['exp'][i].split().count(word)\n",
    "            score[i] += word_value[word]*tf*idf[word]\n",
    "    except:\n",
    "        pass"
   ]
  },
  {
   "cell_type": "code",
   "execution_count": 12,
   "metadata": {},
   "outputs": [
    {
     "name": "stdout",
     "output_type": "stream",
     "text": [
      "cv159 : 24.8584323937\n",
      "cv174 : 21.3803867597\n",
      "cv126 : 13.9860302459\n",
      "cv110 : 12.8755032995\n",
      "cv141 : 11.3874642776\n",
      "cv150 : 11.2335421953\n",
      "cv164 : 6.99301512293\n",
      "cv107 : 6.99301512293\n",
      "cv149 : 6.59167373201\n",
      "cv142 : 6.43775164974\n",
      "cv139 : 4.7957905456\n",
      "cv124 : 4.7957905456\n",
      "cv123 : 4.7957905456\n",
      "cv119 : 4.7957905456\n",
      "cv177 : 4.39444915467\n",
      "cv111 : 4.39444915467\n",
      "cv176 : 2.19722457734\n",
      "cv172 : 2.19722457734\n",
      "cv17 : 2.19722457734\n",
      "cv169 : 2.19722457734\n",
      "cv163 : 2.19722457734\n",
      "cv16 : 2.19722457734\n",
      "cv156 : 2.19722457734\n",
      "cv155 : 2.19722457734\n",
      "cv153 : 2.19722457734\n",
      "cv148 : 2.19722457734\n",
      "cv145 : 2.19722457734\n",
      "cv129 : 2.19722457734\n",
      "cv127 : 2.19722457734\n",
      "cv121 : 2.19722457734\n",
      "cv120 : 2.19722457734\n",
      "cv116 : 2.19722457734\n",
      "cv108 : 2.19722457734\n",
      "cv106 : 2.19722457734\n",
      "cv102 : 2.19722457734\n",
      "cv1.txt : 2.19722457734\n",
      "cv189 : 0.0\n",
      "cv188 : 0.0\n",
      "cv187 : 0.0\n",
      "cv186 : 0.0\n",
      "cv185 : 0.0\n",
      "cv184 : 0.0\n",
      "cv183 : 0.0\n",
      "cv182 : 0.0\n",
      "cv181 : 0.0\n",
      "cv180 : 0.0\n",
      "cv18 : 0.0\n",
      "cv179 : 0.0\n",
      "cv178 : 0.0\n",
      "cv175 : 0.0\n",
      "cv173 : 0.0\n",
      "cv171 : 0.0\n",
      "cv170 : 0.0\n",
      "cv168 : 0.0\n",
      "cv167 : 0\n",
      "cv166 : 0.0\n",
      "cv165 : 0.0\n",
      "cv162 : 0.0\n",
      "cv161 : 0.0\n",
      "cv160 : 0.0\n",
      "cv158 : 0.0\n",
      "cv157 : 0.0\n",
      "cv154 : 0.0\n",
      "cv152 : 0.0\n",
      "cv151 : 0.0\n",
      "cv15 : 0.0\n",
      "cv147 : 0.0\n",
      "cv146 : 0.0\n",
      "cv144 : 0.0\n",
      "cv143 : 0.0\n",
      "cv140 : 0.0\n",
      "cv14 : 0.0\n",
      "cv138 : 0.0\n",
      "cv137 : 0.0\n",
      "cv136 : 0.0\n",
      "cv135 : 0.0\n",
      "cv134 : 0.0\n",
      "cv133 : 0.0\n",
      "cv132 : 0.0\n",
      "cv131 : 0.0\n",
      "cv130 : 0.0\n",
      "cv13 : 0.0\n",
      "cv128 : 0.0\n",
      "cv125 : 0.0\n",
      "cv122 : 0.0\n",
      "cv12 : 0.0\n",
      "cv118 : 0.0\n",
      "cv117 : 0.0\n",
      "cv115 : 0.0\n",
      "cv114 : 0.0\n",
      "cv113 : 0.0\n",
      "cv112 : 0.0\n",
      "cv11 : 0.0\n",
      "cv109 : 0.0\n",
      "cv105 : 0.0\n",
      "cv104 : 0.0\n",
      "cv103 : 0.0\n",
      "cv101 : 0.0\n",
      "cv100 : 0.0\n",
      "cv10 : 0.0\n"
     ]
    }
   ],
   "source": [
    "sorted_list = []\n",
    "for i in range(no_of_cv):\n",
    "    sorted_list.append((score[i], i))\n",
    "    \n",
    "sorted_list.sort(reverse /\n",
    "                 = True)\n",
    "\n",
    "for s, i in sorted_list:\n",
    "    print list(cvs)[i], ':', s"
   ]
  }
 ],
 "metadata": {
  "kernelspec": {
   "display_name": "Python 2",
   "language": "python",
   "name": "python2"
  },
  "language_info": {
   "codemirror_mode": {
    "name": "ipython",
    "version": 2
   },
   "file_extension": ".py",
   "mimetype": "text/x-python",
   "name": "python",
   "nbconvert_exporter": "python",
   "pygments_lexer": "ipython2",
   "version": "2.7.12"
  }
 },
 "nbformat": 4,
 "nbformat_minor": 2
}
