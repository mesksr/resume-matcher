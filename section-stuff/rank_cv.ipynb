{
 "cells": [
  {
   "cell_type": "code",
   "execution_count": 1,
   "metadata": {
    "collapsed": true
   },
   "outputs": [],
   "source": [
    "import os, math\n",
    "import pandas as pd\n",
    "import numpy as np"
   ]
  },
  {
   "cell_type": "code",
   "execution_count": 2,
   "metadata": {
    "collapsed": true
   },
   "outputs": [],
   "source": [
    "from gensim.models import Word2Vec as w2v\n",
    "from os import path as osp\n",
    "\n",
    "root = osp.dirname(os.getcwd())\n",
    "model = w2v.load(osp.join(root,'model/stackexchange_model'))\n",
    "\n",
    "\n",
    "def get_closest(word, n):\n",
    "    '''Get n most similar words by words.'''\n",
    "    #This function can easily be expanded to get similar words to phrases--\n",
    "    #using sent2vec() method defined in WithWord2Vec notebook. \n",
    "    word = word.lower\n",
    "    words = [word]\n",
    "    similar_vals = [1]\n",
    "    try:\n",
    "        similar_list = model.most_similar(positive=[word],topn=n)\n",
    "        \n",
    "        for tupl in similar_list:\n",
    "            words.append(tupl[0])\n",
    "            similar_vals.append(tupl[1])\n",
    "    except:\n",
    "        #If word not in vocabulary return same word and 1 similarity-- \n",
    "        #see initialisation of words, similarities.\n",
    "        pass\n",
    "    \n",
    "    return words, similar_vals"
   ]
  },
  {
   "cell_type": "code",
   "execution_count": 3,
   "metadata": {
    "collapsed": true
   },
   "outputs": [],
   "source": [
    "cvs = pd.read_csv('prc_data.csv', sep='\\t')\n",
    "cvs = cvs.set_index('Unnamed: 0')\n",
    "\n",
    "prc_description = \"ne datum analyst knowledge python R\""
   ]
  },
  {
   "cell_type": "code",
   "execution_count": 4,
   "metadata": {},
   "outputs": [
    {
     "name": "stdout",
     "output_type": "stream",
     "text": [
      "ne 1\n",
      "je 0.636240243912\n",
      "ke 0.629526257515\n",
      "datum 1\n",
      "datums 0.602979719639\n",
      "wgs 0.574095129967\n",
      "analyst 1\n",
      "analysts 0.489208996296\n",
      "engineer 0.480672895908\n",
      "knowledge 1\n",
      "expertise 0.707411766052\n",
      "knowlege 0.643639862537\n",
      "python 1\n",
      "perl 0.720492959023\n",
      "ruby 0.67925286293\n",
      "R 1\n",
      "URI 0.981574892998\n",
      "L 0.977639019489\n"
     ]
    }
   ],
   "source": [
    "word_value = {}\n",
    "similar_words_needed = 2\n",
    "for word in prc_description.split():\n",
    "    similar_words, similarity = get_closest(word, similar_words_needed)\n",
    "    for i in range(len(similar_words)):\n",
    "        word_value[similar_words[i]] = word_value.get(similar_words[i], 0)+similarity[i]\n",
    "        print similar_words[i], word_value[similar_words[i]] "
   ]
  },
  {
   "cell_type": "code",
   "execution_count": 9,
   "metadata": {},
   "outputs": [
    {
     "name": "stdout",
     "output_type": "stream",
     "text": [
      "{u'knowlege': 1, 'knowledge': 27, u'ke': 1, 'python': 1, 'datum': 9, u'L': 1, u'datums': 1, 'ne': 3, 'R': 1, u'expertise': 5, u'analysts': 1, u'wgs': 1, u'je': 1, u'perl': 1, u'ruby': 3, 'analyst': 4, u'URI': 1, u'engineer': 17}\n"
     ]
    },
    {
     "data": {
      "text/plain": [
       "{u'L': 4.605170185988092,\n",
       " 'R': 4.605170185988092,\n",
       " u'URI': 4.605170185988092,\n",
       " 'analyst': 3.2188758248682006,\n",
       " u'analysts': 4.605170185988092,\n",
       " 'datum': 2.3978952727983707,\n",
       " u'datums': 4.605170185988092,\n",
       " u'engineer': 1.6094379124341003,\n",
       " u'expertise': 2.995732273553991,\n",
       " u'je': 4.605170185988092,\n",
       " u'ke': 4.605170185988092,\n",
       " 'knowledge': 1.0986122886681098,\n",
       " u'knowlege': 4.605170185988092,\n",
       " 'ne': 3.4965075614664802,\n",
       " u'perl': 4.605170185988092,\n",
       " 'python': 4.605170185988092,\n",
       " u'ruby': 3.4965075614664802,\n",
       " u'wgs': 4.605170185988092}"
      ]
     },
     "execution_count": 9,
     "metadata": {},
     "output_type": "execute_result"
    }
   ],
   "source": [
    "no_of_cv = 100\n",
    "\n",
    "count = {}\n",
    "idf = {}\n",
    "for word in word_value.keys():\n",
    "    count[word] = 0\n",
    "    for i in range(no_of_cv):\n",
    "        try:\n",
    "            if word in cvs.loc(0)['skill'][i].split() or word in cvs.loc(0)['exp'][i].split():\n",
    "                count[word] += 1\n",
    "        except:\n",
    "            pass\n",
    "    if (count[word] == 0):\n",
    "        count[word] = 1\n",
    "    idf[word] = math.log(no_of_cv/count[word])\n",
    "print count\n",
    "idf"
   ]
  },
  {
   "cell_type": "code",
   "execution_count": 10,
   "metadata": {
    "collapsed": true,
    "scrolled": true
   },
   "outputs": [],
   "source": [
    "score = {}\n",
    "for i in range(no_of_cv):\n",
    "    score[i] = 0\n",
    "    try:\n",
    "        for word in word_value.keys():\n",
    "            tf = cvs.loc(0)['skill'][i].split().count(word) + cvs.loc(0)['exp'][i].split().count(word)\n",
    "            score[i] += word_value[word]*tf*idf[word]\n",
    "    except:\n",
    "        pass"
   ]
  },
  {
   "cell_type": "code",
   "execution_count": 11,
   "metadata": {},
   "outputs": [
    {
     "name": "stdout",
     "output_type": "stream",
     "text": [
      "cv174 : 18.4263252014\n",
      "cv107 : 10.1324929497\n",
      "cv126 : 6.99301512293\n",
      "cv110 : 6.43775164974\n",
      "cv129 : 5.84863783144\n",
      "cv141 : 5.6937321388\n",
      "cv150 : 5.61677109767\n",
      "cv123 : 5.29072471321\n",
      "cv175 : 4.75002554277\n",
      "cv135 : 4.64167909293\n",
      "cv122 : 4.64167909293\n",
      "cv109 : 4.64167909293\n",
      "cv124 : 4.51711153105\n",
      "cv142 : 3.99248900702\n",
      "cv119 : 3.94512163711\n",
      "cv164 : 3.49650756147\n",
      "cv172 : 3.47362506005\n",
      "cv149 : 3.295836866\n",
      "cv159 : 3.21887582487\n",
      "cv16 : 3.21782854692\n",
      "cv148 : 3.21782854692\n",
      "cv111 : 2.97083775949\n",
      "cv102 : 2.64583865298\n",
      "cv139 : 2.3978952728\n",
      "cv177 : 2.19722457734\n",
      "cv105 : 2.11921625825\n",
      "cv120 : 1.87222547082\n",
      "cv1.txt : 1.87222547082\n",
      "cv187 : 1.54722636431\n",
      "cv113 : 1.54722636431\n",
      "cv176 : 1.09861228867\n",
      "cv17 : 1.09861228867\n",
      "cv169 : 1.09861228867\n",
      "cv163 : 1.09861228867\n",
      "cv156 : 1.09861228867\n",
      "cv155 : 1.09861228867\n",
      "cv153 : 1.09861228867\n",
      "cv145 : 1.09861228867\n",
      "cv127 : 1.09861228867\n",
      "cv121 : 1.09861228867\n",
      "cv116 : 1.09861228867\n",
      "cv108 : 1.09861228867\n",
      "cv106 : 1.09861228867\n",
      "cv184 : 0.773613182154\n",
      "cv18 : 0.773613182154\n",
      "cv15 : 0.773613182154\n",
      "cv13 : 0.773613182154\n",
      "cv189 : 0.0\n",
      "cv188 : 0.0\n",
      "cv186 : 0.0\n",
      "cv185 : 0.0\n",
      "cv183 : 0.0\n",
      "cv182 : 0.0\n",
      "cv181 : 0.0\n",
      "cv180 : 0.0\n",
      "cv179 : 0.0\n",
      "cv178 : 0.0\n",
      "cv173 : 0.0\n",
      "cv171 : 0.0\n",
      "cv170 : 0.0\n",
      "cv168 : 0.0\n",
      "cv167 : 0\n",
      "cv166 : 0.0\n",
      "cv165 : 0.0\n",
      "cv162 : 0.0\n",
      "cv161 : 0.0\n",
      "cv160 : 0.0\n",
      "cv158 : 0.0\n",
      "cv157 : 0.0\n",
      "cv154 : 0.0\n",
      "cv152 : 0.0\n",
      "cv151 : 0.0\n",
      "cv147 : 0.0\n",
      "cv146 : 0.0\n",
      "cv144 : 0.0\n",
      "cv143 : 0.0\n",
      "cv140 : 0.0\n",
      "cv14 : 0.0\n",
      "cv138 : 0.0\n",
      "cv137 : 0.0\n",
      "cv136 : 0.0\n",
      "cv134 : 0.0\n",
      "cv133 : 0.0\n",
      "cv132 : 0.0\n",
      "cv131 : 0.0\n",
      "cv130 : 0.0\n",
      "cv128 : 0.0\n",
      "cv125 : 0.0\n",
      "cv12 : 0.0\n",
      "cv118 : 0.0\n",
      "cv117 : 0.0\n",
      "cv115 : 0.0\n",
      "cv114 : 0.0\n",
      "cv112 : 0.0\n",
      "cv11 : 0.0\n",
      "cv104 : 0.0\n",
      "cv103 : 0.0\n",
      "cv101 : 0.0\n",
      "cv100 : 0.0\n",
      "cv10 : 0.0\n"
     ]
    }
   ],
   "source": [
    "sorted_list = []\n",
    "for i in range(no_of_cv):\n",
    "    sorted_list.append((score[i], i))\n",
    "    \n",
    "sorted_list.sort(reverse \\\n",
    "                 = True)\n",
    "\n",
    "for s, i in sorted_list:\n",
    "    print list(cvs)[i], ':', s"
   ]
  }
 ],
 "metadata": {
  "kernelspec": {
   "display_name": "Python 2",
   "language": "python",
   "name": "python2"
  },
  "language_info": {
   "codemirror_mode": {
    "name": "ipython",
    "version": 2
   },
   "file_extension": ".py",
   "mimetype": "text/x-python",
   "name": "python",
   "nbconvert_exporter": "python",
   "pygments_lexer": "ipython2",
   "version": "2.7.12"
  }
 },
 "nbformat": 4,
 "nbformat_minor": 2
}
