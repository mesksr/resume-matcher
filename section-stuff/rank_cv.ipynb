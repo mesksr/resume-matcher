{
 "cells": [
  {
   "cell_type": "code",
   "execution_count": 60,
   "metadata": {},
   "outputs": [
    {
     "name": "stdout",
     "output_type": "stream",
     "text": [
      "\n",
      "\u001b[93m    Warning: no model found for 'en_core_web_sm'\u001b[0m\n",
      "\n",
      "    Only loading the 'en' tokenizer.\n",
      "\n"
     ]
    }
   ],
   "source": [
    "import spacy, os\n",
    "nlp = spacy.load('en_core_web_sm')\n",
    "import pandas as pd\n",
    "import numpy as np\n",
    "import en_core_web_sm\n",
    "nlp = en_core_web_sm.load()"
   ]
  },
  {
   "cell_type": "code",
   "execution_count": 36,
   "metadata": {
    "collapsed": true
   },
   "outputs": [],
   "source": [
    "def modify(word):\n",
    "    try:\n",
    "        symbols = '''~'`!@#$%^&*)(_+-=}{][|\\:;\",./<>?'''\n",
    "        mod_word = ''\n",
    "        \n",
    "        for char in word:\n",
    "            if (char not in symbols):\n",
    "                mod_word += char.lower()\n",
    "\n",
    "        docx = nlp(unicode(mod_word))\n",
    "\n",
    "        if (len(mod_word) == 0 or docx[0].is_stop):\n",
    "            return None\n",
    "        else:\n",
    "            return docx[0].lemma_\n",
    "    except:\n",
    "        return '1' # to handle the odd case of characters like 'x02', etc."
   ]
  },
  {
   "cell_type": "code",
   "execution_count": 52,
   "metadata": {
    "collapsed": true
   },
   "outputs": [],
   "source": [
    "def get_closest(word, n):\n",
    "    return [word]*n"
   ]
  },
  {
   "cell_type": "code",
   "execution_count": 54,
   "metadata": {},
   "outputs": [
    {
     "name": "stdout",
     "output_type": "stream",
     "text": [
      "successful [u'successful', u'successful']\n",
      "software [u'software', u'software']\n",
      "organisation [u'organisation', u'organisation']\n",
      "base [u'base', u'base']\n",
      "cheshire [u'cheshire', u'cheshire']\n",
      "lookout [u'lookout', u'lookout']\n",
      "skilled [u'skilled', u'skilled']\n",
      "experience [u'experience', u'experience']\n",
      "software [u'software', u'software']\n",
      "developer [u'developer', u'developer']\n",
      "join [u'join', u'join']\n",
      "technical [u'technical', u'technical']\n",
      "team [u'team', u'team']\n",
      "involve [u'involve', u'involve']\n",
      "software [u'software', u'software']\n",
      "development [u'development', u'development']\n",
      "lifecycle [u'lifecycle', u'lifecycle']\n",
      "design [u'design', u'design']\n",
      "implementation [u'implementation', u'implementation']\n",
      "maintain [u'maintain', u'maintain']\n",
      "current [u'current', u'current']\n",
      "application [u'application', u'application']\n",
      "website [u'website', u'website']\n",
      "qualification [u'qualification', u'qualification']\n",
      "minimum [u'minimum', u'minimum']\n",
      "2 [u'2', u'2']\n",
      "year [u'year', u'year']\n",
      "commercial [u'commercial', u'commercial']\n",
      "development [u'development', u'development']\n",
      "experience [u'experience', u'experience']\n",
      "vbnet [u'vbnet', u'vbnet']\n",
      "cnet [u'cnet', u'cnet']\n",
      "ms [u'ms', u'ms']\n",
      "sql [u'sql', u'sql']\n",
      "experience [u'experience', u'experience']\n",
      "follow [u'follow', u'follow']\n",
      "technology [u'technology', u'technology']\n",
      "o [u'o', u'o']\n",
      "visual [u'visual', u'visual']\n",
      "studio [u'studio', u'studio']\n",
      "2010 [u'2010', u'2010']\n",
      "o [u'o', u'o']\n",
      "sql [u'sql', u'sql']\n",
      "management [u'management', u'management']\n",
      "studio [u'studio', u'studio']\n",
      "o [u'o', u'o']\n",
      "visual [u'visual', u'visual']\n",
      "sourcesafeteam [u'sourcesafeteam', u'sourcesafeteam']\n",
      "foundation [u'foundation', u'foundation']\n",
      "server [u'server', u'server']\n",
      "work [u'work', u'work']\n",
      "experience [u'experience', u'experience']\n",
      "knowledge [u'knowledge', u'knowledge']\n",
      "follow [u'follow', u'follow']\n",
      "o [u'o', u'o']\n",
      "aspnet [u'aspnet', u'aspnet']\n",
      "o [u'o', u'o']\n",
      "ajax [u'ajax', u'ajax']\n",
      "javascript [u'javascript', u'javascript']\n",
      "css [u'css', u'css']\n",
      "html [u'html', u'html']\n",
      "xml [u'xml', u'xml']\n",
      "o [u'o', u'o']\n",
      "web [u'web', u'web']\n",
      "service [u'service', u'service']\n",
      "tsql [u'tsql', u'tsql']\n",
      "sql [u'sql', u'sql']\n",
      "script [u'script', u'script']\n",
      "store [u'store', u'store']\n",
      "procedure [u'procedure', u'procedure']\n",
      "great [u'great', u'great']\n",
      "opportunity [u'opportunity', u'opportunity']\n",
      "know [u'know', u'know']\n",
      "leader [u'leader', u'leader']\n",
      "financial [u'financial', u'financial']\n",
      "software [u'software', u'software']\n",
      "think [u'think', u'think']\n",
      "able [u'able', u'able']\n",
      "new [u'new', u'new']\n",
      "challenge [u'challenge', u'challenge']\n",
      "send [u'send', u'send']\n",
      "cv [u'cv', u'cv']\n"
     ]
    }
   ],
   "source": [
    "cvs = pd.read_csv('prc_data.csv', sep='\\t')\n",
    "cvs = cvs.set_index('Unnamed: 0')\n",
    "\n",
    "jd = pd.read_csv(os.getcwd()+'/data/jd_small.csv')\n",
    "raw_description = jd['description'][5]\n",
    "prc_description = ''\n",
    "\n",
    "for word in raw_description.split():\n",
    "    mod_word = modify(word)\n",
    "    if (mod_word is not None):\n",
    "        prc_description += (mod_word + ' ')\n",
    "\n",
    "for word in prc_description.split():\n",
    "    similar = get_closest(word, 2)\n",
    "    print word, similar"
   ]
  },
  {
   "cell_type": "code",
   "execution_count": null,
   "metadata": {
    "collapsed": true
   },
   "outputs": [],
   "source": []
  }
 ],
 "metadata": {
  "kernelspec": {
   "display_name": "Python 2",
   "language": "python",
   "name": "python2"
  },
  "language_info": {
   "codemirror_mode": {
    "name": "ipython",
    "version": 2
   },
   "file_extension": ".py",
   "mimetype": "text/x-python",
   "name": "python",
   "nbconvert_exporter": "python",
   "pygments_lexer": "ipython2",
   "version": "2.7.12"
  }
 },
 "nbformat": 4,
 "nbformat_minor": 2
}
