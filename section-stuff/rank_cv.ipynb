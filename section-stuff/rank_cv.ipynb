{
 "cells": [
  {
   "cell_type": "code",
   "execution_count": 2,
   "metadata": {
    "collapsed": true
   },
   "outputs": [],
   "source": [
    "import os, math\n",
    "import pandas as pd\n",
    "import numpy as np"
   ]
  },
  {
   "cell_type": "code",
   "execution_count": 3,
   "metadata": {
    "collapsed": true
   },
   "outputs": [],
   "source": [
    "from gensim.models import Word2Vec as w2v\n",
    "from os import path as osp\n",
    "\n",
    "root = osp.dirname(os.getcwd())\n",
    "model = w2v.load(osp.join(root,'model/stackexchange_model'))\n"
   ]
  },
  {
   "cell_type": "code",
   "execution_count": 4,
   "metadata": {
    "collapsed": true
   },
   "outputs": [],
   "source": [
    "def get_closest(word, n):\n",
    "    '''Get n most similar words by words.'''\n",
    "    #This function can easily be expanded to get similar words to phrases--\n",
    "    #using sent2vec() method defined in WithWord2Vec notebook. \n",
    "    word = word.lower()\n",
    "    words = [word]\n",
    "    similar_vals = [1]\n",
    "    try:\n",
    "        similar_list = model.most_similar(positive=[word],topn=n)\n",
    "        \n",
    "        for tupl in similar_list:\n",
    "            words.append(tupl[0])\n",
    "            similar_vals.append(tupl[1])\n",
    "    except:\n",
    "        #If word not in vocabulary return same word and 1 similarity-- \n",
    "        #see initialisation of words, similarities.\n",
    "        pass\n",
    "    \n",
    "    return words, similar_vals"
   ]
  },
  {
   "cell_type": "code",
   "execution_count": 5,
   "metadata": {
    "collapsed": true
   },
   "outputs": [],
   "source": [
    "cvs = pd.read_csv('prc_data.csv', sep='\\t')\n",
    "cvs = cvs.set_index('Unnamed: 0')\n",
    "\n",
    "prc_description = \"ne datum analyst knowledge python R\""
   ]
  },
  {
   "cell_type": "code",
   "execution_count": 6,
   "metadata": {},
   "outputs": [
    {
     "name": "stdout",
     "output_type": "stream",
     "text": [
      "ne 1\n",
      "je 0.636240243912\n",
      "ke 0.629526257515\n",
      "datum 1\n",
      "datums 0.602979719639\n",
      "wgs 0.574095129967\n",
      "analyst 1\n",
      "analysts 0.489208996296\n",
      "engineer 0.480672895908\n",
      "knowledge 1\n",
      "expertise 0.707411766052\n",
      "knowlege 0.643639862537\n",
      "python 1\n",
      "perl 0.720492959023\n",
      "ruby 0.67925286293\n",
      "r 1\n",
      "l 0.67971944809\n",
      "w 0.638600409031\n"
     ]
    }
   ],
   "source": [
    "word_value = {}\n",
    "similar_words_needed = 2\n",
    "for word in prc_description.split():\n",
    "    similar_words, similarity = get_closest(word, similar_words_needed)\n",
    "    for i in range(len(similar_words)):\n",
    "        word_value[similar_words[i]] = word_value.get(similar_words[i], 0)+similarity[i]\n",
    "        print similar_words[i], word_value[similar_words[i]] "
   ]
  },
  {
   "cell_type": "code",
   "execution_count": 8,
   "metadata": {},
   "outputs": [
    {
     "name": "stdout",
     "output_type": "stream",
     "text": [
      "{u'knowlege': 1, u'wgs': 1, 'knowledge': 35, u'ke': 1, 'python': 4, 'datum': 13, u'l': 1, u'datums': 1, 'ne': 4, 'r': 1, u'expertise': 9, u'analysts': 1, u'w': 1, u'je': 1, u'perl': 1, u'ruby': 3, 'analyst': 5, u'engineer': 20}\n",
      "{u'knowlege': 5.0106352940962555, u'wgs': 5.0106352940962555, 'knowledge': 1.3862943611198906, u'ke': 5.0106352940962555, 'python': 3.6109179126442243, 'datum': 2.3978952727983707, u'l': 5.0106352940962555, u'datums': 5.0106352940962555, 'ne': 3.6109179126442243, 'r': 5.0106352940962555, u'expertise': 2.772588722239781, u'analysts': 5.0106352940962555, u'w': 5.0106352940962555, u'je': 5.0106352940962555, u'perl': 5.0106352940962555, u'ruby': 3.912023005428146, 'analyst': 3.4011973816621555, u'engineer': 1.9459101490553132}\n"
     ]
    }
   ],
   "source": [
    "no_of_cv = 150\n",
    "\n",
    "count = {}\n",
    "idf = {}\n",
    "for word in word_value.keys():\n",
    "    count[word] = 0\n",
    "    for i in range(no_of_cv):\n",
    "        try:\n",
    "            if word in cvs.loc(0)['skill'][i].split() or word in cvs.loc(0)['exp'][i].split():\n",
    "                count[word] += 1\n",
    "        except:\n",
    "            pass\n",
    "    if (count[word] == 0):\n",
    "        count[word] = 1\n",
    "    idf[word] = math.log(no_of_cv/count[word])\n",
    "print count\n",
    "print idf"
   ]
  },
  {
   "cell_type": "code",
   "execution_count": 9,
   "metadata": {
    "collapsed": true,
    "scrolled": true
   },
   "outputs": [],
   "source": [
    "score = {}\n",
    "for i in range(no_of_cv):\n",
    "    score[i] = 0\n",
    "    try:\n",
    "        for word in word_value.keys():\n",
    "            tf = cvs.loc(0)['skill'][i].split().count(word) + cvs.loc(0)['exp'][i].split().count(word)\n",
    "            score[i] += word_value[word]*tf*idf[word]\n",
    "    except:\n",
    "        pass"
   ]
  },
  {
   "cell_type": "code",
   "execution_count": 10,
   "metadata": {},
   "outputs": [
    {
     "name": "stdout",
     "output_type": "stream",
     "text": [
      "cv174 : 20.1580663963\n",
      "cv215 : 15.3508679102\n",
      "cv159 : 13.4224679699\n",
      "cv150 : 12.1986801511\n",
      "cv107 : 11.0044445332\n",
      "cv233 : 10.8327537379\n",
      "cv211 : 8.60813018641\n",
      "cv126 : 7.39510754656\n",
      "cv197 : 7.22183582529\n",
      "cv199 : 7.1936858184\n",
      "cv110 : 6.80239476332\n",
      "cv129 : 6.70080001369\n",
      "cv141 : 6.38350663488\n",
      "cv192 : 5.74555151845\n",
      "cv135 : 5.61207759914\n",
      "cv122 : 5.61207759914\n",
      "cv109 : 5.61207759914\n",
      "cv175 : 5.31450565257\n",
      "cv123 : 5.29460342386\n",
      "cv124 : 4.35925715733\n",
      "cv142 : 4.33654364819\n",
      "cv119 : 4.26858780585\n",
      "cv149 : 4.15888308336\n",
      "cv172 : 4.04354718741\n",
      "cv164 : 3.78418963392\n",
      "cv111 : 3.70793498876\n",
      "cv217 : 3.61091791264\n",
      "cv201 : 3.40119738166\n",
      "cv16 : 3.34765624566\n",
      "cv148 : 3.34765624566\n",
      "cv102 : 3.25698689417\n",
      "cv193 : 2.77258872224\n",
      "cv177 : 2.77258872224\n",
      "cv204 : 2.3978952728\n",
      "cv139 : 2.3978952728\n",
      "cv120 : 2.32164062764\n",
      "cv1.txt : 2.32164062764\n",
      "cv226 : 1.96136188454\n",
      "cv207 : 1.96136188454\n",
      "cv194 : 1.96136188454\n",
      "cv105 : 1.96136188454\n",
      "cv213 : 1.87069253305\n",
      "cv187 : 1.87069253305\n",
      "cv113 : 1.87069253305\n",
      "cv232 : 1.38629436112\n",
      "cv229 : 1.38629436112\n",
      "cv223 : 1.38629436112\n",
      "cv2.txt : 1.38629436112\n",
      "cv19 : 1.38629436112\n",
      "cv176 : 1.38629436112\n",
      "cv17 : 1.38629436112\n",
      "cv169 : 1.38629436112\n",
      "cv163 : 1.38629436112\n",
      "cv156 : 1.38629436112\n",
      "cv155 : 1.38629436112\n",
      "cv153 : 1.38629436112\n",
      "cv145 : 1.38629436112\n",
      "cv127 : 1.38629436112\n",
      "cv121 : 1.38629436112\n",
      "cv116 : 1.38629436112\n",
      "cv108 : 1.38629436112\n",
      "cv106 : 1.38629436112\n",
      "cv228 : 0.935346266524\n",
      "cv184 : 0.935346266524\n",
      "cv18 : 0.935346266524\n",
      "cv15 : 0.935346266524\n",
      "cv13 : 0.935346266524\n",
      "cv231 : 0.0\n",
      "cv230 : 0.0\n",
      "cv23 : 0.0\n",
      "cv227 : 0.0\n",
      "cv225 : 0.0\n",
      "cv224 : 0.0\n",
      "cv222 : 0.0\n",
      "cv221 : 0.0\n",
      "cv220 : 0.0\n",
      "cv22 : 0.0\n",
      "cv219 : 0.0\n",
      "cv218 : 0.0\n",
      "cv216 : 0.0\n",
      "cv214 : 0.0\n",
      "cv212 : 0.0\n",
      "cv210 : 0\n",
      "cv21 : 0.0\n",
      "cv209 : 0.0\n",
      "cv208 : 0\n",
      "cv206 : 0.0\n",
      "cv205 : 0.0\n",
      "cv203 : 0\n",
      "cv202 : 0.0\n",
      "cv200 : 0.0\n",
      "cv20 : 0.0\n",
      "cv198 : 0.0\n",
      "cv196 : 0.0\n",
      "cv195 : 0.0\n",
      "cv191 : 0.0\n",
      "cv190 : 0.0\n",
      "cv189 : 0.0\n",
      "cv188 : 0.0\n",
      "cv186 : 0.0\n",
      "cv185 : 0.0\n",
      "cv183 : 0.0\n",
      "cv182 : 0.0\n",
      "cv181 : 0.0\n",
      "cv180 : 0.0\n",
      "cv179 : 0.0\n",
      "cv178 : 0.0\n",
      "cv173 : 0.0\n",
      "cv171 : 0.0\n",
      "cv170 : 0.0\n",
      "cv168 : 0.0\n",
      "cv167 : 0\n",
      "cv166 : 0.0\n",
      "cv165 : 0.0\n",
      "cv162 : 0.0\n",
      "cv161 : 0.0\n",
      "cv160 : 0.0\n",
      "cv158 : 0.0\n",
      "cv157 : 0.0\n",
      "cv154 : 0.0\n",
      "cv152 : 0.0\n",
      "cv151 : 0.0\n",
      "cv147 : 0.0\n",
      "cv146 : 0.0\n",
      "cv144 : 0.0\n",
      "cv143 : 0.0\n",
      "cv140 : 0.0\n",
      "cv14 : 0.0\n",
      "cv138 : 0.0\n",
      "cv137 : 0.0\n",
      "cv136 : 0.0\n",
      "cv134 : 0.0\n",
      "cv133 : 0.0\n",
      "cv132 : 0.0\n",
      "cv131 : 0.0\n",
      "cv130 : 0.0\n",
      "cv128 : 0.0\n",
      "cv125 : 0.0\n",
      "cv12 : 0.0\n",
      "cv118 : 0.0\n",
      "cv117 : 0.0\n",
      "cv115 : 0.0\n",
      "cv114 : 0.0\n",
      "cv112 : 0.0\n",
      "cv11 : 0.0\n",
      "cv104 : 0.0\n",
      "cv103 : 0.0\n",
      "cv101 : 0.0\n",
      "cv100 : 0.0\n",
      "cv10 : 0.0\n"
     ]
    }
   ],
   "source": [
    "sorted_list = []\n",
    "for i in range(no_of_cv):\n",
    "    sorted_list.append((score[i], i))\n",
    "    \n",
    "sorted_list.sort(reverse \\\n",
    "                 = True)\n",
    "\n",
    "for s, i in sorted_list:\n",
    "    print list(cvs)[i], ':', s"
   ]
  }
 ],
 "metadata": {
  "kernelspec": {
   "display_name": "Python 2",
   "language": "python",
   "name": "python2"
  },
  "language_info": {
   "codemirror_mode": {
    "name": "ipython",
    "version": 2
   },
   "file_extension": ".py",
   "mimetype": "text/x-python",
   "name": "python",
   "nbconvert_exporter": "python",
   "pygments_lexer": "ipython2",
   "version": "2.7.12"
  }
 },
 "nbformat": 4,
 "nbformat_minor": 2
}
