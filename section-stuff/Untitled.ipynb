{
 "cells": [
  {
   "cell_type": "code",
   "execution_count": null,
   "metadata": {
    "collapsed": true
   },
   "outputs": [],
   "source": [
    "Error: Couldn't link model to 'en'\n",
    "\n",
    "    Creating a symlink in spacy/data failed. Make sure you have the required\n",
    "    permissions and try re-running the command as admin, or use a virtualenv\n",
    "    to install spaCy in a user directory, instead of doing a system\n",
    "    installation.\n",
    "\n",
    "    You can still import the model as a Python package and call its load()\n",
    "    method, or create the symlink manually:\n",
    "\n",
    "    /usr/local/lib/python2.7/dist-packages/en_core_web_sm/en_core_web_sm-1.2.0\n",
    "    --> /usr/local/lib/python2.7/dist-packages/spacy/data/en\n",
    "\n",
    "Traceback (most recent call last):\n",
    "  File \"/usr/lib/python2.7/runpy.py\", line 174, in _run_module_as_main\n",
    "    \"__main__\", fname, loader, pkg_name)\n",
    "  File \"/usr/lib/python2.7/runpy.py\", line 72, in _run_code\n",
    "    exec code in run_globals\n",
    "  File \"/usr/local/lib/python2.7/dist-packages/spacy/__main__.py\", line 133, in <module>\n",
    "    plac.Interpreter.call(CLI)\n",
    "  File \"/usr/local/lib/python2.7/dist-packages/plac_ext.py\", line 1142, in call\n",
    "    print(out)\n",
    "  File \"/usr/local/lib/python2.7/dist-packages/plac_ext.py\", line 914, in __exit__\n",
    "    self.close(exctype, exc, tb)\n",
    "  File \"/usr/local/lib/python2.7/dist-packages/plac_ext.py\", line 952, in close\n",
    "    self._interpreter.throw(exctype, exc, tb)\n",
    "  File \"/usr/local/lib/python2.7/dist-packages/plac_ext.py\", line 964, in _make_interpreter\n",
    "    arglist = yield task\n",
    "  File \"/usr/local/lib/python2.7/dist-packages/plac_ext.py\", line 1139, in call\n",
    "    raise_(task.etype, task.exc, task.tb)\n",
    "  File \"/usr/local/lib/python2.7/dist-packages/plac_ext.py\", line 380, in _wrap\n",
    "    for value in genobj:\n",
    "  File \"/usr/local/lib/python2.7/dist-packages/plac_ext.py\", line 95, in gen_exc\n",
    "    raise_(etype, exc, tb)\n",
    "  File \"/usr/local/lib/python2.7/dist-packages/plac_ext.py\", line 966, in _make_interpreter\n",
    "    cmd, result = self.parser.consume(arglist)\n",
    "  File \"/usr/local/lib/python2.7/dist-packages/plac_core.py\", line 207, in consume\n",
    "    return cmd, self.func(*(args + varargs + extraopts), **kwargs)\n",
    "  File \"/usr/local/lib/python2.7/dist-packages/spacy/__main__.py\", line 33, in download\n",
    "    cli_download(model, direct)\n",
    "  File \"/usr/local/lib/python2.7/dist-packages/spacy/cli/download.py\", line 24, in download\n",
    "    link_package(model_name, model, force=True)\n",
    "  File \"/usr/local/lib/python2.7/dist-packages/spacy/cli/link.py\", line 27, in link_package\n",
    "    symlink(model_path, link_name, force)\n",
    "  File \"/usr/local/lib/python2.7/dist-packages/spacy/cli/link.py\", line 47, in symlink\n",
    "    symlink_to(link_path, model_path)\n",
    "  File \"/usr/local/lib/python2.7/dist-packages/spacy/compat.py\", line 49, in symlink_to\n",
    "    orig.symlink_to(dest)\n",
    "  File \"/usr/local/lib/python2.7/dist-packages/pathlib.py\", line 1167, in symlink_to\n",
    "    self._accessor.symlink(target, self, target_is_directory)\n",
    "  File \"/usr/local/lib/python2.7/dist-packages/pathlib.py\", line 392, in symlink\n",
    "    return os.symlink(str(a), str(b))\n",
    "OSError: [Errno 17] File exists\n"
   ]
  },
  {
   "cell_type": "code",
   "execution_count": null,
   "metadata": {
    "collapsed": true
   },
   "outputs": [],
   "source": [
    "import spacy, os\n",
    "\n",
    "nlp = spacy.load('en_core_web_sm')\n",
    "\n",
    "import pandas as pd\n",
    "\n",
    "import numpy as np\n",
    "\n",
    "import en_core_web_sm\n",
    "\n",
    "nlp = en_core_web_sm.load()\n",
    "\n",
    "\n",
    "    Warning: no model found for 'en_core_web_sm'\n",
    "\n",
    "    Only loading the 'en' tokenizer.\n",
    "\n"
   ]
  }
 ],
 "metadata": {
  "kernelspec": {
   "display_name": "Python 2",
   "language": "python",
   "name": "python2"
  },
  "language_info": {
   "codemirror_mode": {
    "name": "ipython",
    "version": 2
   },
   "file_extension": ".py",
   "mimetype": "text/x-python",
   "name": "python",
   "nbconvert_exporter": "python",
   "pygments_lexer": "ipython2",
   "version": "2.7.12"
  }
 },
 "nbformat": 4,
 "nbformat_minor": 2
}
