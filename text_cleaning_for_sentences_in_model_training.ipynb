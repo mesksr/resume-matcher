{
 "cells": [
  {
   "cell_type": "markdown",
   "metadata": {},
   "source": [
    "## XML Parsing + regex "
   ]
  },
  {
   "cell_type": "code",
   "execution_count": 192,
   "metadata": {
    "collapsed": true
   },
   "outputs": [],
   "source": [
    "import xml.etree.ElementTree as ET"
   ]
  },
  {
   "cell_type": "code",
   "execution_count": 204,
   "metadata": {},
   "outputs": [
    {
     "name": "stdout",
     "output_type": "stream",
     "text": [
      "['meta.blender.stackexchange.com.7z', 'meta.serverfault.com.7z', 'askubuntu.com.7z', 'stackexchange_meta.sqlite', 'meta.anime.stackexchange.com.7z', 'arabic.stackexchange.com.7z', 'meta.retrocomputing.stackexchange.com.7z', 'boardgames.stackexchange.com.7z', 'serverfault.com.7z', 'sitecore.stackexchange.com.7z', 'meta.freelancing.stackexchange.com.7z', 'meta.ja.stackoverflow.com.7z', 'cooking.stackexchange.com.7z', 'workplace.stackexchange.com.7z', 'meta.rpg.stackexchange.com.7z', 'meta.opendata.stackexchange.com.7z', 'Sites.xml', 'meta.moderators.stackexchange.com.7z', 'gis.stackexchange.com.7z', 'esperanto.stackexchange.com.7z', 'meta.softwarerecs.stackexchange.com.7z', 'meta.movies.stackexchange.com.7z', 'reverseengineering.stackexchange.com.7z', 'retrocomputing.stackexchange.com.7z', 'meta.3dprinting.stackexchange.com.7z', 'stackoverflow.com-Comments.7z', 'datascience.stackexchange.com.7z', 'webapps.stackexchange.com.7z', 'scifi.stackexchange.com.7z', 'beer.stackexchange.com.7z', 'meta.musicfans.stackexchange.com.7z', 'meta.joomla.stackexchange.com.7z', 'meta.chemistry.stackexchange.com.7z', 'meta.poker.stackexchange.com.7z', 'raspberrypi.stackexchange.com.7z', 'meta.reverseengineering.stackexchange.com.7z', 'meta.stats.stackexchange.com.7z', 'pm.stackexchange.com.7z', 'law.stackexchange.com.7z', 'meta.raspberrypi.stackexchange.com.7z', 'meta.salesforce.stackexchange.com.7z', 'bricks.stackexchange.com.7z', 'codegolf.stackexchange.com.7z', 'networkengineering.stackexchange.com.7z', 'readme.txt', 'expatriates.stackexchange.com.7z', 'meta.history.stackexchange.com.7z', 'meta.wordpress.stackexchange.com.7z', 'meta.tridion.stackexchange.com.7z', 'programmers.stackexchange.com.7z', 'sports.stackexchange.com.7z', 'movies.stackexchange.com.7z', 'meta.biology.stackexchange.com.7z', 'stackoverflow.com-Badges.7z', 'meta.german.stackexchange.com.7z', 'philosophy.stackexchange.com.7z', 'photo.stackexchange.com.7z', 'rpg.stackexchange.com.7z', 'meta.parenting.stackexchange.com.7z', 'meta.spanish.stackexchange.com.7z', 'meta.worldbuilding.stackexchange.com.7z', 'joomla.stackexchange.com.7z', 'ru.stackoverflow.com.7z', 'opendata.stackexchange.com.7z', 'japanese.stackexchange.com.7z', 'french.stackexchange.com.7z', 'meta.bricks.stackexchange.com.7z', 'salesforce.stackexchange.com.7z', 'meta.english.stackexchange.com.7z', 'meta.portuguese.stackexchange.com.7z', 'meta.expatriates.stackexchange.com.7z', 'meta.es.stackoverflow.com.7z', 'meta.webmasters.stackexchange.com.7z', 'robotics.stackexchange.com.7z', 'iot.stackexchange.com.7z', 'meta.matheducators.stackexchange.com.7z', 'meta.coffee.stackexchange.com.7z', 'patents.stackexchange.com.7z', 'cstheory.stackexchange.com.7z', 'meta.engineering.stackexchange.com.7z', 'aviation.stackexchange.com.7z', 'meta.sound.stackexchange.com.7z', 'meta.languagelearning.stackexchange.com.7z', 'meta.genealogy.stackexchange.com.7z', 'meta.expressionengine.stackexchange.com.7z', 'meta.puzzling.stackexchange.com.7z', 'meta.magento.stackexchange.com.7z', 'meta.unix.stackexchange.com.7z', 'meta.arabic.stackexchange.com.7z', 'astronomy.stackexchange.com.7z', 'windowsphone.stackexchange.com.7z', 'blender.stackexchange.com.7z', 'history.stackexchange.com.7z', 'chemistry.stackexchange.com.7z', 'english.stackexchange.com.7z', 'meta.quant.stackexchange.com.7z', 'scicomp.stackexchange.com.7z', 'meta.philosophy.stackexchange.com.7z', 'mathematica.stackexchange.com.7z', 'outdoors.stackexchange.com.7z', 'meta.bitcoin.stackexchange.com.7z', 'meta.aviation.stackexchange.com.7z', 'chinese.stackexchange.com.7z', 'stackapps.com.7z', 'meta.politics.stackexchange.com.7z', 'ebooks.stackexchange.com.7z', 'meta.dsp.stackexchange.com.7z', 'space.stackexchange.com.7z', 'codereview.stackexchange.com.7z', 'meta.civicrm.stackexchange.com.7z', 'crafts.stackexchange.com.7z', 'academia.stackexchange.com.7z', 'meta.avp.stackexchange.com.7z', 'meta.apple.stackexchange.com.7z', 'judaism.stackexchange.com.7z', 'monero.stackexchange.com.7z', 'meta.hermeneutics.stackexchange.com.7z', 'portuguese.stackexchange.com.7z', 'productivity.stackexchange.com.7z', 'arduino.stackexchange.com.7z', 'meta.vi.stackexchange.com.7z', 'meta.skeptics.stackexchange.com.7z', 'hsm.stackexchange.com.7z', 'meta.sports.stackexchange.com.7z', 'sustainability.stackexchange.com.7z', 'meta.security.stackexchange.com.7z', 'meta.space.stackexchange.com.7z', 'health.stackexchange.com.7z', 'russian.stackexchange.com.7z', 'meta.esperanto.stackexchange.com.7z', 'meta.opensource.stackexchange.com.7z', 'meta.askubuntu.com.7z', 'meta.money.stackexchange.com.7z', 'android.stackexchange.com', 'meta.networkengineering.stackexchange.com.7z', 'meta.gamedev.stackexchange.com.7z', 'graphicdesign.stackexchange.com.7z', 'meta.islam.stackexchange.com.7z', 'writers.stackexchange.com.7z', 'ai.stackexchange.com', 'webmasters.stackexchange.com.7z', 'quant.stackexchange.com.7z', 'meta.literature.stackexchange.com.7z', 'meta.boardgames.stackexchange.com.7z', 'meta.judaism.stackexchange.com.7z', 'ethereum.stackexchange.com.7z', 'meta.law.stackexchange.com.7z', 'islam.stackexchange.com.7z', 'meta.bicycles.stackexchange.com.7z', 'craftcms.stackexchange.com.7z', 'travel.stackexchange.com.7z', 'meta.japanese.stackexchange.com.7z', 'meta.electronics.stackexchange.com.7z', 'stats.stackexchange.com.7z', 'worldbuilding.stackexchange.com.7z', 'opensource.stackexchange.com.7z', 'meta.cooking.stackexchange.com.7z', 'sharepoint.stackexchange.com.7z', 'meta.outdoors.stackexchange.com.7z', 'emacs.stackexchange.com.7z', 'electronics.stackexchange.com.7z', 'meta.sustainability.stackexchange.com.7z', 'ham.stackexchange.com.7z', 'meta.music.stackexchange.com.7z', 'meta.hinduism.stackexchange.com.7z', 'hardwarerecs.stackexchange.com.7z', 'meta.android.stackexchange.com.7z', 'meta.latin.stackexchange.com.7z', 'meta.iot.stackexchange.com.7z', 'bicycles.stackexchange.com.7z', 'politics.stackexchange.com.7z', 'computergraphics.stackexchange.com.7z', 'meta.tor.stackexchange.com.7z', 'meta.hsm.stackexchange.com.7z', 'moderators.stackexchange.com.7z', 'freelancing.stackexchange.com.7z', 'meta.robotics.stackexchange.com.7z', 'meta.pm.stackexchange.com.7z', 'meta.dba.stackexchange.com.7z', 'meta.codegolf.stackexchange.com.7z', 'tor.stackexchange.com.7z', 'stackexchange_meta.xml', 'meta.ham.stackexchange.com.7z', 'coffee.stackexchange.com.7z', 'meta.emacs.stackexchange.com.7z', 'german.stackexchange.com.7z', 'meta.workplace.stackexchange.com.7z', 'musicfans.stackexchange.com.7z', 'stackoverflow.com-Votes.7z', 'meta.startups.stackexchange.com.7z', 'buddhism.stackexchange.com.7z', 'meta.codereview.stackexchange.com.7z', 'drupal.stackexchange.com.7z', 'meta.cs.stackexchange.com.7z', 'meta.hardwarerecs.stackexchange.com.7z', 'meta.pt.stackoverflow.com.7z', 'meta.mechanics.stackexchange.com.7z', 'stackoverflow.com-Tags.7z', 'matheducators.stackexchange.com.7z', 'magento.stackexchange.com.7z', 'meta.russian.stackexchange.com.7z', 'meta.gardening.stackexchange.com.7z', 'meta.italian.stackexchange.com.7z', 'meta.gis.stackexchange.com.7z', 'meta.health.stackexchange.com.7z', 'tridion.stackexchange.com.7z', 'gamedev.stackexchange.com.7z', 'mythology.stackexchange.com.7z', 'meta.computergraphics.stackexchange.com.7z', 'meta.craftcms.stackexchange.com.7z', 'sound.stackexchange.com.7z', 'meta.ebooks.stackexchange.com.7z', 'diy.stackexchange.com.7z', 'music.stackexchange.com.7z', 'bitcoin.stackexchange.com.7z', 'stackoverflow.com-Posts.7z', 'meta.crypto.stackexchange.com.7z', 'puzzling.stackexchange.com.7z', 'ja.stackoverflow.com.7z', 'wordpress.stackexchange.com.7z', 'italian.stackexchange.com.7z', 'martialarts.stackexchange.com.7z', 'meta.ell.stackexchange.com.7z', 'meta.gaming.stackexchange.com.7z', 'chess.stackexchange.com.7z', 'dba.stackexchange.com.7z', 'meta.rus.stackexchange.com.7z', 'meta.productivity.stackexchange.com.7z', 'meta.sharepoint.stackexchange.com.7z', 'linguistics.stackexchange.com.7z', 'ell.stackexchange.com.7z', 'meta.beer.stackexchange.com.7z', 'meta.datascience.stackexchange.com.7z', 'dsp.stackexchange.com.7z', 'meta.monero.stackexchange.com.7z', 'engineering.stackexchange.com.7z', 'avp.stackexchange.com.7z', 'latin.stackexchange.com.7z', 'anime.stackexchange.com.7z', 'meta.french.stackexchange.com.7z', 'meta.webapps.stackexchange.com.7z', 'expressionengine.stackexchange.com.7z', 'hermeneutics.stackexchange.com.7z', 'meta.lifehacks.stackexchange.com.7z', 'meta.writers.stackexchange.com.7z', 'parenting.stackexchange.com.7z', 'money.stackexchange.com.7z', 'meta.chinese.stackexchange.com.7z', 'math.stackexchange.com.7z', 'skeptics.stackexchange.com.7z', 'tex.stackexchange.com.7z', 'meta.cstheory.stackexchange.com.7z', 'meta.physics.stackexchange.com.7z', 'stackoverflow.com-PostLinks.7z', 'meta.sitecore.stackexchange.com.7z', 'mechanics.stackexchange.com.7z', 'meta.mythology.stackexchange.com.7z', 'poker.stackexchange.com.7z', 'meta.graphicdesign.stackexchange.com.7z', 'meta.superuser.com.7z', 'lifehacks.stackexchange.com.7z', 'economics.stackexchange.com.7z', 'meta.martialarts.stackexchange.com.7z', 'stackoverflow.com-Users.7z', 'unix.stackexchange.com.7z', 'android.stackexchange.com.7z', 'apple.stackexchange.com.7z', 'meta.scifi.stackexchange.com.7z', 'meta.programmers.stackexchange.com.7z', 'meta.windowsphone.stackexchange.com.7z', 'physics.stackexchange.com.7z', 'literature.stackexchange.com.7z', 'final.txt', 'ai.stackexchange.com.7z', 'mathoverflow.net.7z', 'meta.diy.stackexchange.com.7z', 'homebrew.stackexchange.com.7z', 'license.txt', 'meta.astronomy.stackexchange.com.7z', 'meta.christianity.stackexchange.com.7z', 'softwarerecs.stackexchange.com.7z', 'meta.woodworking.stackexchange.com.7z', 'meta.travel.stackexchange.com.7z', 'meta.academia.stackexchange.com.7z', 'meta.earthscience.stackexchange.com.7z', 'meta.ethereum.stackexchange.com.7z', 'languagelearning.stackexchange.com.7z', 'es.stackoverflow.com.7z', 'ux.stackexchange.com.7z', 'superuser.com.7z', 'startups.stackexchange.com.7z', 'gaming.stackexchange.com.7z', 'pets.stackexchange.com.7z', 'meta.mathematica.stackexchange.com.7z', 'meta.pets.stackexchange.com.7z', 'cs.stackexchange.com.7z', 'meta.homebrew.stackexchange.com.7z', 'meta.elementaryos.stackexchange.com.7z', 'meta.ai.stackexchange.com.7z', 'meta.tex.stackexchange.com.7z', 'meta.fitness.stackexchange.com.7z', 'hinduism.stackexchange.com.7z', 'meta.photo.stackexchange.com.7z', 'meta.drupal.stackexchange.com.7z', 'rus.stackexchange.com.7z', 'meta.buddhism.stackexchange.com.7z', 'crypto.stackexchange.com.7z', 'meta.crafts.stackexchange.com.7z', 'elementaryos.stackexchange.com.7z', 'security.stackexchange.com.7z', 'christianity.stackexchange.com.7z', 'meta.stackoverflow.com.7z', 'meta.ru.stackoverflow.com.7z', 'gardening.stackexchange.com.7z', 'cogsci.stackexchange.com.7z', 'meta.stackexchange.com.7z', 'meta.math.stackexchange.com.7z', 'stackoverflow.com-PostHistory.7z', 'meta.cogsci.stackexchange.com.7z', 'meta.linguistics.stackexchange.com.7z', 'meta.ux.stackexchange.com.7z', 'meta.patents.stackexchange.com.7z', 'genealogy.stackexchange.com.7z', 'civicrm.stackexchange.com.7z', 'pt.stackoverflow.com.7z', 'meta.chess.stackexchange.com.7z', 'sqa.stackexchange.com.7z', 'meta.korean.stackexchange.com.7z', 'meta.arduino.stackexchange.com.7z', 'meta.economics.stackexchange.com.7z', 'spanish.stackexchange.com.7z', 'fitness.stackexchange.com.7z', 'meta.scicomp.stackexchange.com.7z', '3dprinting.stackexchange.com.7z', 'meta.sqa.stackexchange.com.7z', 'meta.mathoverflow.net.7z', 'woodworking.stackexchange.com.7z', 'biology.stackexchange.com.7z', 'korean.stackexchange.com.7z', 'vi.stackexchange.com.7z', 'earthscience.stackexchange.com.7z']\n"
     ]
    }
   ],
   "source": [
    "import os.path,os\n",
    "dirs = os.listdir('./stackexchange')\n",
    "PATH = os.path.join(os.getcwd(),dirs)\n",
    "root = ET.parse(os.path.join(PATH,'Posts.xml').getroot()"
   ]
  },
  {
   "cell_type": "code",
   "execution_count": 199,
   "metadata": {},
   "outputs": [],
   "source": [
    "#Somehow the strip() part is not working.\n",
    "def prep(text):\n",
    "    text = text.lower()\n",
    "    #text = text.strip('</p>')\n",
    "    return text+'\\n'"
   ]
  },
  {
   "cell_type": "code",
   "execution_count": 196,
   "metadata": {
    "scrolled": true
   },
   "outputs": [],
   "source": [
    "strings = []\n",
    "i = 0\n",
    "for body in root.findall('row'):\n",
    "    strings.append(body.get('Body'))"
   ]
  },
  {
   "cell_type": "markdown",
   "metadata": {},
   "source": [
    "### Important -- gibberish handled using string.printable + encoding\n",
    "- Note above that print automatically converts &quote to \" \" etc via enforcing ascii encoding. \n",
    "- So using string.printable to filter the strings when utf-8 can not be enforced.\n",
    "- This gives the data in the 'final.txt' just like it would be printed.\n",
    "- Use decode('utf-8') while reading final.txt to convert to unicode object."
   ]
  },
  {
   "cell_type": "code",
   "execution_count": 200,
   "metadata": {},
   "outputs": [],
   "source": [
    "import string, re\n",
    "printable = set(string.printable)\n",
    "\n",
    "fout = open(os.path.join(os.getcwd(),'stackexchange/android.stackexchange.com/final.txt'),'w')\n",
    "i = 0\n",
    "for each in strings:\n",
    "    try:\n",
    "        each = prep(each)\n",
    "        fout.write(each.encode('utf-8'))\n",
    "    except: \n",
    "        filtered = filter(lambda x: x in printable,each)\n",
    "        filtered = prep(filtered)\n",
    "        fout.write(filtered.encode('utf-8'))\n",
    "    i += 1\n",
    "fout.close()"
   ]
  },
  {
   "cell_type": "code",
   "execution_count": 194,
   "metadata": {
    "scrolled": true
   },
   "outputs": [
    {
     "name": "stdout",
     "output_type": "stream",
     "text": [
      "row {'ViewCount': '436253', 'Title': \"I've rooted my phone.  Now what?  What do I gain from rooting?\", 'CommunityOwnedDate': '2011-01-25T08:44:10.820', 'LastEditDate': '2013-04-05T15:50:48.133', 'AnswerCount': '2', 'Score': '263', 'PostTypeId': '1', 'OwnerUserId': '10', 'FavoriteCount': '173', 'Body': '<p>This is a common question by those who have just rooted their phones.  What apps, ROMs, benefits, etc. do I get from rooting?  What should I be doing now?</p>\\n', 'Tags': '<rooting><root-access>', 'LastEditorUserId': '16575', 'LastActivityDate': '2015-11-21T04:55:50.150', 'CommentCount': '0', 'AcceptedAnswerId': '13', 'CreationDate': '2010-09-13T19:16:26.763', 'Id': '1'}\n",
      "row {'ViewCount': '1154', 'Title': 'I installed another SMS application, now I get notified twice', 'LastEditDate': '2011-11-01T18:30:32.300', 'AnswerCount': '3', 'Score': '10', 'PostTypeId': '1', 'OwnerUserId': '7', 'FavoriteCount': '2', 'Body': \"<p>I have a Google Nexus One with Android 2.2. I didn't like the default SMS-application so I installed Handcent-SMS. Now when I get an SMS, I get notified twice. How can I fix this?</p>\\n\", 'Tags': '<2.2-froyo><sms><notifications><handcent-sms>', 'LastEditorUserId': '981', 'LastActivityDate': '2011-11-01T18:30:32.300', 'CommentCount': '0', 'AcceptedAnswerId': '4', 'CreationDate': '2010-09-13T19:17:17.917', 'Id': '2'}\n",
      "row {'Body': '<p>You can turn off notification in your stock Messaging application by going into the settings dialog  (Menu button -> Settings) and unchecking Notifications</p>\\n', 'LastActivityDate': '2010-09-13T19:19:23.200', 'CommentCount': '1', 'Score': '18', 'PostTypeId': '2', 'OwnerUserId': '21', 'CreationDate': '2010-09-13T19:19:23.200', 'Id': '4', 'ParentId': '2'}\n"
     ]
    }
   ],
   "source": [
    "for child in root[:3]:\n",
    "    print child.tag, child.attrib"
   ]
  },
  {
   "cell_type": "code",
   "execution_count": 195,
   "metadata": {},
   "outputs": [
    {
     "data": {
      "text/plain": [
       "96769"
      ]
     },
     "execution_count": 195,
     "metadata": {},
     "output_type": "execute_result"
    }
   ],
   "source": [
    "len(root)"
   ]
  },
  {
   "cell_type": "code",
   "execution_count": 197,
   "metadata": {},
   "outputs": [
    {
     "data": {
      "text/plain": [
       "96769"
      ]
     },
     "execution_count": 197,
     "metadata": {},
     "output_type": "execute_result"
    }
   ],
   "source": [
    "len(strings)"
   ]
  },
  {
   "cell_type": "code",
   "execution_count": 198,
   "metadata": {},
   "outputs": [
    {
     "name": "stdout",
     "output_type": "stream",
     "text": [
      "<p>this was possible in earlier versions but from chrome version 51 onwards, it is not possible as it <em>designed</em> to open in last session instead of home page</p>\n",
      "\n",
      "<p>i couldn't find any workaround for rooted devices on net</p>\n",
      "\n",
      "<p><strong><a href=\"https://productforums.google.com/d/msg/chrome/amkxsvv8s78/8mbnst7cbaaj\" rel=\"nofollow noreferrer\">source</a></strong></p>\n",
      "\n",
      "<p>a more powerful tool is <a href=\"https://play.google.com/store/apps/details?id=berserker.android.apps.sambadroid&amp;hl=en\" rel=\"nofollow noreferrer\">sambadroid</a>. sambadroid is a native port for android of the popular samba for linux.\n",
      "this application allows you to share/manage files on your device easily from any device of your network:</p>\n",
      "\n",
      "<p>benefits</p>\n",
      "\n",
      "<ul>\n",
      "<li>no need to use router even a mobile hotpot works fine</li>\n",
      "<li>you can easily set a share from your android device (e.g sd card)</li>\n",
      "<li>ability to set shared folder with read/write permissions</li>\n",
      "</ul>\n",
      "\n",
      "<p>setup involves setting the desired share from the device see screenshot:</p>\n",
      "\n",
      "<p><a href=\"https://play.google.com/store/apps/details?id=berserker.android.apps.sambadroid&amp;hl=en\" rel=\"nofollow noreferrer\"><img src=\"https://i.stack.imgur.com/f3npc.png\" alt=\"sambadroid setup\"></a></p>\n",
      "\n",
      "<p>once started just type [win]+[r] in your computer, write \\\\sambadroid \n",
      "or go to pc >> network and you will see a new share, see below:</p>\n",
      "\n",
      "<p><a href=\"https://i.stack.imgur.com/fdrr8.png\" rel=\"nofollow noreferrer\"><img src=\"https://i.stack.imgur.com/fdrr8.png\" alt=\"samba share\"></a></p>\n",
      "\n",
      "<p>limitations</p>\n",
      "\n",
      "<ul>\n",
      "<li><p>due to limitations in later editions of windows trying to explicity map can result in (network not found error-but ignore it and use windows explorer method)</p></li>\n",
      "<li><p>require root (needed for cifs implementation on android)</p></li>\n",
      "</ul>\n",
      "\n",
      "<p>alternatively if not root, then its better to create a shared folder on windows then access it from android or use adb push/pull method</p>\n",
      "\n",
      "<p>hope this helps</p>\n",
      "\n",
      "<p>how do i copy and share a link with title text?</p>\n",
      "\n",
      "<p>for example, when i 'share' a link from chrome it just sends the uri.\n",
      "i want to also add the title of the page and then the uri link.</p>\n",
      "\n",
      "<p>how do i fix it? when i was texting my local radio station (which had a less than 7 digit number) my phone said this may add charges to your account  (aka may cost money). and my being quick pressed \"never ask me again\" then okay but instead i hit declined and it won't let me text any number that has less than 6 numbers and charges me. how do i fix it so i can again?</p>\n",
      "\n",
      "<p>make your sure kernnel supports selinux and cifs module</p>\n",
      "\n",
      "<p>you additionally need <a href=\"https://f-droid.org/repository/browse/?fdfilter=selinuxmodechanger&amp;fdid=com.mrbimc.selinux\" rel=\"nofollow noreferrer\">selinuxmodechanger</a> alternatively type: <code>setenforce permissive</code> as su in terminal.</p>\n",
      "\n",
      "<p>a patched version of cifs manager which uses (mount command) and needs supersu from chainfire. you can get this from xda developers; patched <a href=\"https://forum.xda-developers.com/showpost.php?s=1dfdbb52aa2d05d8bcafcddde2ed17e8&amp;p=53760495&amp;postcount=537\" rel=\"nofollow noreferrer\">cifs manager</a></p>\n",
      "\n",
      "<p>alternatively you can create a cifs mount point from terminal and give ip address and username of your nas: </p>\n",
      "\n",
      "<pre><code>su --mount-master -c busybox mount -o username=guest,rw,noperm,iocharset=utf8 -t cifs //192.168.xxx.xxx/cifsshare /path-to-mount-in\n",
      "</code></pre>\n",
      "\n",
      "<p>change back selinux mode to enforcing:</p>\n",
      "\n",
      "<pre><code>setenforce enforcing\n",
      "</code></pre>\n",
      "\n",
      "<p>credits</p>\n",
      "\n",
      "<p><a href=\"https://forums.geforce.com/default/topic/856208/-guide-how-to-mount-a-network-share-into-the-filesystem-root-/\" rel=\"nofollow noreferrer\">mounting a network share into the filesystem [root]</a></p>\n",
      "\n",
      "<p>in android n;</p>\n",
      "\n",
      "<p>settings, apps, your messaging app, sms app (below memory), special access (bottom option),  premium sms access. </p>\n",
      "\n",
      "<p>alternatively - settings, search, \"premium\" or similar</p>\n",
      "\n",
      "<p>instead of closing chrome close all the pages that are open. it looks like a square with a number in it on my phone, next to the address bar, at the top of the screen.</p>\n",
      "\n",
      "<p>i bought an onda v80 se tablet that came rooted but with no superuser app installed. would it be possible to remove the root access?</p>\n",
      "\n",
      "<p>unrooting your android phone </p>\n",
      "\n",
      "<ul>\n",
      "<li>use supersu app</li>\n",
      "</ul>\n",
      "\n",
      "<p>this method works for all android devices that were rooted without installing custom recovery.</p>\n",
      "\n",
      "<p>first, download and install <a href=\"https://play.google.com/store/apps/details?id=eu.chainfire.supersu&amp;hl=en\" rel=\"nofollow noreferrer\">supersu</a>\n",
      "launch supersu app, go to settings, and tap on ‘full unroot’.\n",
      "it will confirm you just tap continue. after successful, unroot superuserwill close automatically\n",
      "restart your device\n",
      "uninstall supersu and you are fully unrooted.</p>\n",
      "\n",
      "<p>use es file explorer</p>\n",
      "\n",
      "<ol>\n",
      "<li><p>if the above method does not work for you, then you can use this method to unroot your phone.</p></li>\n",
      "<li><p>install <a href=\"https://play.google.com/store/apps/details?id=com.estrongs.android.pop&amp;hl=en\" rel=\"nofollow noreferrer\">es file explorer</a> app on your device (internal storage).</p></li>\n",
      "<li><p>open the app and tap the menu button</p></li>\n",
      "<li><p>now tap on ‘tools’ and select ‘root explorer’ to turn it on. superuser will ask you to grant privilege or root privileges to the app.    allow it.</p></li>\n",
      "<li><p>now go back to the main screen of the app and select ‘/’ in the top corner of the screen.</p></li>\n",
      "<li><p>go to system -> bin. find the busybox and su file and delete them. if you can’t find any of them, just skip to the next step.</p></li>\n",
      "<li><p>go back to system folder then open ‘xbin’ folder and delete the busybox and su file there (if you found any).</p></li>\n",
      "<li><p>now go back to the system folder again and open ‘app’ folder and then delete the supeuser.apk file located in the folder. that’s all.</p></li>\n",
      "<li><p>now restart your device and it should be unrooted.</p></li>\n",
      "</ol>\n",
      "\n",
      "<p>credits: <a href=\"http://www.androidrex.com/how-to-unroot-rooted-android-device/\" rel=\"nofollow noreferrer\">unrooting android</a></p>\n",
      "\n",
      "<p>i managed to fix it by checking my settings, \"stream only on wifi\" was turned on some how.. once i turned that off, everything available as before</p>\n",
      "\n"
     ]
    }
   ],
   "source": [
    "for each in strings[-10:]:\n",
    "    print each.lower()"
   ]
  },
  {
   "cell_type": "code",
   "execution_count": 201,
   "metadata": {},
   "outputs": [
    {
     "name": "stdout",
     "output_type": "stream",
     "text": [
      "96769\n"
     ]
    },
    {
     "data": {
      "text/plain": [
       "96769"
      ]
     },
     "execution_count": 201,
     "metadata": {},
     "output_type": "execute_result"
    }
   ],
   "source": [
    "print i\n",
    "len(strings)"
   ]
  },
  {
   "cell_type": "code",
   "execution_count": 202,
   "metadata": {},
   "outputs": [
    {
     "name": "stdout",
     "output_type": "stream",
     "text": [
      "ascii\n"
     ]
    }
   ],
   "source": [
    "import sys\n",
    "print sys.getdefaultencoding()"
   ]
  }
 ],
 "metadata": {
  "kernelspec": {
   "display_name": "Python 2",
   "language": "python",
   "name": "python2"
  },
  "language_info": {
   "codemirror_mode": {
    "name": "ipython",
    "version": 2
   },
   "file_extension": ".py",
   "mimetype": "text/x-python",
   "name": "python",
   "nbconvert_exporter": "python",
   "pygments_lexer": "ipython2",
   "version": "2.7.12"
  }
 },
 "nbformat": 4,
 "nbformat_minor": 2
}
