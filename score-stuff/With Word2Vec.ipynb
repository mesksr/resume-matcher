{
 "cells": [
  {
   "cell_type": "code",
   "execution_count": 2,
   "metadata": {
    "collapsed": true
   },
   "outputs": [],
   "source": [
    "import os\n",
    "from os import path as osp\n",
    "\n",
    "import numpy as np\n",
    "\n",
    "root = osp.dirname(os.getcwd())\n",
    "\n",
    "from gensim.models import Word2Vec as w2v\n",
    "\n",
    "model = w2v.load(osp.join(root,'model/stackexchange_model'))"
   ]
  },
  {
   "cell_type": "code",
   "execution_count": 7,
   "metadata": {
    "scrolled": true
   },
   "outputs": [
    {
     "name": "stdout",
     "output_type": "stream",
     "text": [
      "0.318382465197\n"
     ]
    }
   ],
   "source": [
    "print(model.similarity('software','web'))"
   ]
  },
  {
   "cell_type": "markdown",
   "metadata": {},
   "source": [
    "# Using Word2Vec to get sentence vectors."
   ]
  },
  {
   "cell_type": "code",
   "execution_count": 8,
   "metadata": {
    "collapsed": true
   },
   "outputs": [],
   "source": [
    "def sent2vec(s):\n",
    "    '''Generate Vectora for sentences.'''\n",
    "    M = []\n",
    "    for w in s.split():\n",
    "        try:\n",
    "            M.append(model[w])\n",
    "        except:\n",
    "            continue\n",
    "    M = np.array(M)\n",
    "    v = M.sum(axis=0)\n",
    "    return v/np.sqrt((v**2).sum())"
   ]
  },
  {
   "cell_type": "code",
   "execution_count": 9,
   "metadata": {
    "collapsed": true
   },
   "outputs": [],
   "source": [
    "def cosine_sim(vec1, vec2):\n",
    "    '''Return Cosine Similarity.'''\n",
    "    return  np.dot(vec1,vec2)/(np.linalg.norm(vec1)* np.linalg.norm(vec2))"
   ]
  },
  {
   "cell_type": "code",
   "execution_count": 10,
   "metadata": {},
   "outputs": [
    {
     "data": {
      "text/plain": [
       "0.70563692"
      ]
     },
     "execution_count": 10,
     "metadata": {},
     "output_type": "execute_result"
    }
   ],
   "source": [
    "softdev = sent2vec('software developer')\n",
    "\n",
    "cosine_sim(softdev,sent2vec('web developer'))"
   ]
  },
  {
   "cell_type": "code",
   "execution_count": 11,
   "metadata": {},
   "outputs": [
    {
     "name": "stdout",
     "output_type": "stream",
     "text": [
      "0.723013\n",
      "0.845625\n"
     ]
    },
    {
     "data": {
      "text/plain": [
       "0.30706969"
      ]
     },
     "execution_count": 11,
     "metadata": {},
     "output_type": "execute_result"
    }
   ],
   "source": [
    "print cosine_sim(softdev,sent2vec('system developer'))\n",
    "print cosine_sim(softdev,sent2vec('software engineer'))\n",
    "cosine_sim(softdev,sent2vec('data scientist'))"
   ]
  },
  {
   "cell_type": "markdown",
   "metadata": {},
   "source": [
    "# Using word2vec to get simlar words:"
   ]
  },
  {
   "cell_type": "code",
   "execution_count": 12,
   "metadata": {},
   "outputs": [
    {
     "data": {
      "text/plain": [
       "[(u'ios', 0.7962973117828369),\n",
       " (u'iphone', 0.756278395652771),\n",
       " (u'andriod', 0.6817851066589355),\n",
       " (u'kitkat', 0.6656577587127686),\n",
       " (u'andorid', 0.6411431431770325)]"
      ]
     },
     "execution_count": 12,
     "metadata": {},
     "output_type": "execute_result"
    }
   ],
   "source": [
    "#Get 5 most similar words by words\n",
    "\n",
    "model.most_similar(positive=['android'],topn=5)"
   ]
  },
  {
   "cell_type": "code",
   "execution_count": 14,
   "metadata": {},
   "outputs": [
    {
     "data": {
      "text/plain": [
       "[(u'software', 0.8153935670852661),\n",
       " (u'developer', 0.7774227857589722),\n",
       " (u'programmer', 0.5951431393623352),\n",
       " (u'development', 0.5655099153518677),\n",
       " (u'developers', 0.5640977621078491)]"
      ]
     },
     "execution_count": 14,
     "metadata": {},
     "output_type": "execute_result"
    }
   ],
   "source": [
    "#Get 5 most similar words by vector. \n",
    "# We can obviuosly get simlar words by providing a vector using the format below:\n",
    "'''model.similar_by_vector(vector,topn = 10)'''\n",
    "#But we can also use it cleverly to find a similar word to a phrase, using my sent2vec method:\n",
    "                                            \n",
    "model.similar_by_vector(softdev, topn =5)"
   ]
  }
 ],
 "metadata": {
  "kernelspec": {
   "display_name": "Python 2",
   "language": "python",
   "name": "python2"
  },
  "language_info": {
   "codemirror_mode": {
    "name": "ipython",
    "version": 2
   },
   "file_extension": ".py",
   "mimetype": "text/x-python",
   "name": "python",
   "nbconvert_exporter": "python",
   "pygments_lexer": "ipython2",
   "version": "2.7.12"
  }
 },
 "nbformat": 4,
 "nbformat_minor": 2
}
